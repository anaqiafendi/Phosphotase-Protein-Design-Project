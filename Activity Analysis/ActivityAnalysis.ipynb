{
 "metadata": {
  "language_info": {
   "codemirror_mode": {
    "name": "ipython",
    "version": 3
   },
   "file_extension": ".py",
   "mimetype": "text/x-python",
   "name": "python",
   "nbconvert_exporter": "python",
   "pygments_lexer": "ipython3",
   "version": "3.8.5-final"
  },
  "orig_nbformat": 2,
  "kernelspec": {
   "name": "python38064bit8524944b7830403fbe33f0efba5bc94f",
   "display_name": "Python 3.8.0 64-bit"
  }
 },
 "nbformat": 4,
 "nbformat_minor": 2,
 "cells": [
  {
   "cell_type": "code",
   "execution_count": 104,
   "metadata": {},
   "outputs": [],
   "source": [
    "import numpy as np\n",
    "import pandas as pd\n",
    "from pathlib import Path\n",
    "import pickle\n",
    "import matplotlib\n",
    "matplotlib.use(\"Agg\")\n",
    "import matplotlib.pyplot as plt\n",
    "import seaborn as sns\n",
    "import os\n",
    "from pylab import savefig"
   ]
  },
  {
   "cell_type": "code",
   "execution_count": 2,
   "metadata": {},
   "outputs": [],
   "source": [
    "# Load the clean data into variables\n",
    "DataPath = \"Processed Data/\"\n",
    "\n",
    "dicts = ['EFI_ID_List', 'metabolite_dict', 'Protein_seq_dict']\n",
    "\n",
    "with open(DataPath + 'EFI_ID_List.p', 'rb') as EFI_ID:\n",
    "    EFI_ID_List = pickle.load(EFI_ID)\n",
    "\n",
    "with open(DataPath + 'metabolite_dict.p', 'rb') as metabolite:\n",
    "    metabolite_dict = pickle.load(metabolite)\n",
    "\n",
    "with open(DataPath + 'Protein_seq_dict.p', 'rb') as Protein_seq:\n",
    "    Protein_seq_dict = pickle.load(Protein_seq)\n",
    "\n",
    "activations = pd.read_csv(DataPath + 'activations.csv', index_col=0)"
   ]
  },
  {
   "cell_type": "code",
   "execution_count": 153,
   "metadata": {},
   "outputs": [],
   "source": [
    "def Heatmap(df=activations, xlabel=\"Protein Index\", ylabel=\"Substrate Index\", dpi=400):\n",
    "    # Generate heatmap of raw data and activations\n",
    "    plt.figure(dpi=dpi)\n",
    "    heatmap = plt.imshow(df) # Creates heatmap using input dataframe/array\n",
    "    plt.xlabel(xlabel)\n",
    "    plt.ylabel(ylabel)\n",
    "    plt.jet() # Specifies the \"jet\" colormap\n",
    "    plt.colorbar() # Displayes colourbar\n",
    "    plt.show(heatmap)\n",
    "    plt.close()\n",
    "\n",
    "def Heatmap_Vector(df=activations.iloc[0,:], ylabel=\"Protein Index\", xlabel=\"Substrate Index\", my_dpi=400, show_values=True, showfig=False, savefig=True):\n",
    "    # Generate heatmap from data contained in a vector using seaborn\n",
    "    fig, ax = plt.subplots(figsize=(0.5,40), dpi=my_dpi)\n",
    "\n",
    "    sns.heatmap(data=df,\n",
    "                cmap='jet',\n",
    "                linewidths=0,\n",
    "                annot=show_values,\n",
    "                yticklabels=True,\n",
    "                cbar_kws={\"shrink\":10.0, \"anchor\":(0.0, 1.0)},\n",
    "                ax=ax)\n",
    "    \n",
    "    \n",
    "    ax.set(title='Ranked Protein Activity',\n",
    "            xlabel=xlabel,\n",
    "            ylabel=ylabel)\n",
    "    \n",
    "    if showfig == True:\n",
    "        plt.show(ax)\n",
    "\n",
    "    if savefig == True:\n",
    "        path = \"Heatmap_Vector_Plots/\"\n",
    "        plt.savefig(path + str(xlabel) + \".png\", dpi=my_dpi, bbox_inches='tight')\n",
    "\n",
    "    plt.close(fig)\n",
    "\n",
    "def SortNormalize(df):\n",
    "    # Sort values in dataframe, normalize data, retain labels on protein ID\n",
    "    df = df.sort_values(by=SID, ascending=False) # Sort values in descending order\n",
    "    # Still need to add data normalization feature\n",
    "    print(df[df[SID] > 0].count()) # Print count of non-zero datapoints\n",
    "    return df"
   ]
  },
  {
   "cell_type": "code",
   "execution_count": 154,
   "metadata": {
    "tags": []
   },
   "outputs": [
    {
     "output_type": "stream",
     "name": "stdout",
     "text": "164\n164    103\ndtype: int64\n"
    }
   ],
   "source": [
    "def SaveSubstrate(df=activations, SID=0, Subs_list=list(metabolite_dict.values())):\n",
    "    df = pd.DataFrame(df.iloc[SID,:]) # Obtains vector from dataframe based on substrate needed for analysis\n",
    "\n",
    "    df = SortNormalize(df=df)\n",
    "    substrate = Subs_list[SID]\n",
    "\n",
    "    Heatmap_Vector(df=df, show_values=False, xlabel=substrate, savefig=True)\n",
    "\n",
    "'''\n",
    "SID = np.random.randint(0,168)\n",
    "print(SID)\n",
    "AnalyzeSubstrate(df=activations, SID=SID)\n",
    "'''"
   ]
  },
  {
   "cell_type": "code",
   "execution_count": null,
   "metadata": {
    "tags": []
   },
   "outputs": [],
   "source": [
    "for i in range(0,len(activations.index)):\n",
    "    AnalyzeSubstrate(df=activations, SID=i)\n",
    "    \n",
    "\n"
   ]
  },
  {
   "cell_type": "code",
   "execution_count": 43,
   "metadata": {
    "tags": []
   },
   "outputs": [
    {
     "output_type": "stream",
     "name": "stdout",
     "text": "Heatmap_Vector_Plots/Blank.png\n"
    }
   ],
   "source": [
    "path = \"Heatmap_Vector_Plots/\"\n",
    "print(path + str(list(metabolite_dict.values())[0]) + '.png')"
   ]
  },
  {
   "cell_type": "code",
   "execution_count": null,
   "metadata": {},
   "outputs": [],
   "source": []
  }
 ]
}