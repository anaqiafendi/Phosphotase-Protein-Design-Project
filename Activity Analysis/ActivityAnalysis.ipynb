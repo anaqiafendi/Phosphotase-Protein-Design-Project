{
 "metadata": {
  "language_info": {
   "codemirror_mode": {
    "name": "ipython",
    "version": 3
   },
   "file_extension": ".py",
   "mimetype": "text/x-python",
   "name": "python",
   "nbconvert_exporter": "python",
   "pygments_lexer": "ipython3",
   "version": "3.8.5-final"
  },
  "orig_nbformat": 2,
  "kernelspec": {
   "name": "python38064bit8524944b7830403fbe33f0efba5bc94f",
   "display_name": "Python 3.8.0 64-bit"
  }
 },
 "nbformat": 4,
 "nbformat_minor": 2,
 "cells": [
  {
   "cell_type": "code",
   "execution_count": 1,
   "metadata": {},
   "outputs": [],
   "source": [
    "import numpy as np\n",
    "import pandas as pd\n",
    "from pathlib import Path\n",
    "import pickle\n",
    "import matplotlib\n",
    "import matplotlib.pyplot as plt\n",
    "import seaborn as sns\n",
    "import os\n",
    "from pylab import savefig"
   ]
  },
  {
   "cell_type": "code",
   "execution_count": 2,
   "metadata": {},
   "outputs": [],
   "source": [
    "# Load the clean data into variables\n",
    "DataPath = \"Processed Data/\"\n",
    "\n",
    "dicts = ['EFI_ID_List', 'metabolite_dict', 'Protein_seq_dict']\n",
    "\n",
    "with open(DataPath + 'EFI_ID_List.p', 'rb') as EFI_ID:\n",
    "    EFI_ID_List = pickle.load(EFI_ID)\n",
    "\n",
    "with open(DataPath + 'metabolite_dict.p', 'rb') as metabolite:\n",
    "    metabolite_dict = pickle.load(metabolite)\n",
    "\n",
    "with open(DataPath + 'Protein_seq_dict.p', 'rb') as Protein_seq:\n",
    "    Protein_seq_dict = pickle.load(Protein_seq)\n",
    "\n",
    "activations = pd.read_csv(DataPath + 'activations.csv', index_col=0)"
   ]
  },
  {
   "cell_type": "code",
   "execution_count": 5,
   "metadata": {},
   "outputs": [
    {
     "output_type": "error",
     "ename": "SyntaxError",
     "evalue": "invalid syntax (<ipython-input-5-cbdac8faa22c>, line 23)",
     "traceback": [
      "\u001b[1;36m  File \u001b[1;32m\"<ipython-input-5-cbdac8faa22c>\"\u001b[1;36m, line \u001b[1;32m23\u001b[0m\n\u001b[1;33m    cmap='jet'\u001b[0m\n\u001b[1;37m    ^\u001b[0m\n\u001b[1;31mSyntaxError\u001b[0m\u001b[1;31m:\u001b[0m invalid syntax\n"
     ]
    }
   ],
   "source": [
    "def Heatmap(df=activations, xlabel=\"Protein Index\", ylabel=\"Substrate Index\", dpi=700):\n",
    "    # Generate heatmap of raw data and activations\n",
    "    plt.figure(dpi=dpi)\n",
    "    heatmap = plt.imshow(df) # Creates heatmap using input dataframe/array\n",
    "    plt.xlabel(xlabel)\n",
    "    plt.ylabel(ylabel)\n",
    "    plt.jet() # Specifies the \"jet\" colormap\n",
    "    clb = clb = plt.colorbar() # Displayes col\n",
    "    clb.ax.set_ylabel('Vmax values of activity',rotation=270, labelpad=13)\n",
    "\n",
    "    # Need to choose to show heat map or savefig, cannot do both in one operation\n",
    "    # It turns out that savefig also displays the figure, who knew?\n",
    "\n",
    "    # plt.show(heatmap)\n",
    "    # plt.close()\n",
    "    plt.savefig('HeatMap.png')\n",
    "\n",
    "def Heatmap_Vector(df=activations.iloc[0,:], ylabel=\"Protein Index\", xlabel=\"Substrate Index\", my_dpi=400, show_values=True, showfig=False, savefig=True):\n",
    "    # Generate heatmap from data contained in a vector using seaborn\n",
    "    fig, ax = plt.subplots(figsize=40, dpi=my_dpi)\n",
    "\n",
    "    sns.heatmap(data=df,   \n",
    "                cmap='jet',\n",
    "                linewidths=0,\n",
    "                annot=show_values,\n",
    "                yticklabels=True,\n",
    "                cbar_kws={\"shrink\":10.0, \"anchor\":(0.0, 1.0)},\n",
    "                ax=ax)\n",
    "    \n",
    "    \n",
    "    ax.set(title='Ranked Protein Activity',xlabel=xlabel, ylabel=ylabel)\n",
    "    \n",
    "    if showfig == True:\n",
    "        plt.show(ax)\n",
    "\n",
    "    if savefig == True:\n",
    "        path = \"Heatmap_Vector_Plots/\"\n",
    "        plt.savefig(path + str(xlabel) + \".png\", dpi=my_dpi, bbox_inches='tight')\n",
    "\n",
    "    plt.close(fig)\n",
    "\n",
    "def SortNormalize(df, SID):\n",
    "    # Sort values in data\n",
    "    \n",
    "# ame, normalize data, retain labels on protein ID\n",
    "    df = df.sort_values(by=SID, ascending=False) # Sort values in descending order\n",
    "    # Still need to add data normalization feature\n",
    "    print(df[df[SID] > 0].count()) # Print count of non-zero datapoints\n",
    "    return df\n",
    "\n",
    "Heatmap()"
   ]
  },
  {
   "cell_type": "code",
   "execution_count": 26,
   "metadata": {
    "tags": []
   },
   "outputs": [
    {
     "output_type": "execute_result",
     "data": {
      "text/plain": "'\\nSID = np.random.randint(0,168)\\nprint(SID)\\nAnalyzeSubstrate(df=activations, SID=SID)\\n'"
     },
     "metadata": {},
     "execution_count": 26
    }
   ],
   "source": [
    "def SaveSubstrate(df=activations, SID=0, Subs_list=list(metabolite_dict.values())):\n",
    "    df = pd.DataFrame(df.iloc[SID,:]) # Obtains vector from dataframe based on substrate needed for analysis\n",
    "\n",
    "    df = SortNormalize(df=df,SID=SID)\n",
    "    substrate = Subs_list[SID]\n",
    "\n",
    "    Heatmap_Vector(df=df, show_values=False, xlabel=substrate, savefig=True)\n",
    "\n",
    "'''\n",
    "SID = np.random.randint(0,168)\n",
    "print(SID)\n",
    "AnalyzeSubstrate(df=activations, SID=SID)\n",
    "'''"
   ]
  },
  {
   "cell_type": "code",
   "execution_count": null,
   "metadata": {
    "tags": []
   },
   "outputs": [],
   "source": [
    "# This section is pretty dangerous to run, will take a long time, also needs a restart after\n",
    "'''\n",
    "for i in range(0,len(activations.index)):\n",
    "    SaveSubstrate(df=activations, SID=i)\n",
    "'''"
   ]
  },
  {
   "cell_type": "code",
   "execution_count": 43,
   "metadata": {
    "tags": []
   },
   "outputs": [],
   "source": [
    "def RankAll(df=activations):\n",
    "    # Reorder dataframe based on protein with the highest activity score\n",
    "    # Activity score is calculated by total activity across substrates\n",
    "    score = df.sum(axis=0)\n",
    "    # print(score)\n",
    "    score_sort = score.sort_values(ascending=False)\n",
    "    # print(score_sort)\n",
    "    # Reorder dataframe from left to right\n",
    "    df = pd.concat([df, score_sort.to_frame().T], ignore_index=True)\n",
    "    sorted_df = df.sort_values(df.last_valid_index(), axis=1, ascending=False)\n",
    "    sorted_df.drop(df.tail(1).index,inplace=True)\n",
    "    return sorted_df, score_sort\n",
    "\n",
    "sorted_df, _ = RankAll()\n",
    "# Show heatmap of ranked activities\n",
    "Heatmap(sorted_df)\n",
    "\n",
    "# Obtain list of ranked activities"
   ]
  }
 ]
}