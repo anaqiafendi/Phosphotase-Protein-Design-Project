{
 "metadata": {
  "language_info": {
   "codemirror_mode": {
    "name": "ipython",
    "version": 3
   },
   "file_extension": ".py",
   "mimetype": "text/x-python",
   "name": "python",
   "nbconvert_exporter": "python",
   "pygments_lexer": "ipython3",
   "version": "3.8.5-final"
  },
  "orig_nbformat": 2,
  "kernelspec": {
   "name": "python38064bit8524944b7830403fbe33f0efba5bc94f",
   "display_name": "Python 3.8.0 64-bit"
  }
 },
 "nbformat": 4,
 "nbformat_minor": 2,
 "cells": [
  {
   "cell_type": "code",
   "execution_count": 1,
   "metadata": {},
   "outputs": [],
   "source": [
    "import numpy as np\n",
    "import pandas as pd\n",
    "from pathlib import Path\n",
    "import pickle\n",
    "import matplotlib\n",
    "import matplotlib.pyplot as plt\n",
    "import seaborn as sns\n",
    "import os\n",
    "from pylab import savefig"
   ]
  },
  {
   "cell_type": "code",
   "execution_count": 2,
   "metadata": {},
   "outputs": [],
   "source": [
    "# Load the clean data into variables\n",
    "DataPath = \"Processed Data/\"\n",
    "\n",
    "dicts = ['EFI_ID_List', 'metabolite_dict', 'Protein_seq_dict']\n",
    "\n",
    "with open(DataPath + 'EFI_ID_List.p', 'rb') as EFI_ID:\n",
    "    EFI_ID_List = pickle.load(EFI_ID)\n",
    "\n",
    "with open(DataPath + 'metabolite_dict.p', 'rb') as metabolite:\n",
    "    metabolite_dict = pickle.load(metabolite)\n",
    "\n",
    "with open(DataPath + 'Protein_seq_dict.p', 'rb') as Protein_seq:\n",
    "    Protein_seq_dict = pickle.load(Protein_seq)\n",
    "\n",
    "activations = pd.read_csv(DataPath + 'activations.csv', index_col=0)"
   ]
  },
  {
   "cell_type": "code",
   "execution_count": 3,
   "metadata": {},
   "outputs": [],
   "source": [
    "def Heatmap(df=activations, xlabel=\"Protein Index\", ylabel=\"Substrate Index\", dpi=700, xtick=False):\n",
    "    # Generate heatmap of raw data and activations\n",
    "    plt.figure(dpi=dpi)\n",
    "    heatmap = plt.imshow(df) # Creates heatmap using input dataframe/array\n",
    "    plt.xlabel(xlabel)\n",
    "    plt.ylabel(ylabel)\n",
    "    plt.jet() # Specifies the \"jet\" colormap\n",
    "    clb = clb = plt.colorbar() # Displayes col\n",
    "    clb.ax.set_ylabel('Vmax values of activity',rotation=270, labelpad=13)\n",
    "\n",
    "    if xtick == True:\n",
    "        loc, labels = plt.xticks()\n",
    "        plt.xticks(labels=df.columns)\n",
    "\n",
    "    # Need to choose to show heat map or savefig, cannot do both in one operation\n",
    "    # It turns out that savefig also displays the figure, who knew?\n",
    "\n",
    "    # plt.show(heatmap)\n",
    "    # plt.close()\n",
    "    plt.savefig('HeatMap.png')\n",
    "\n",
    "def Heatmap_Vector(df=activations.iloc[0,:], ylabel=\"Protein Index\", xlabel=\"Substrate Index\", my_dpi=400, show_values=True, showfig=False, savefig=False):\n",
    "    # Generate heatmap from data contained in a vector using seaborn\n",
    "    fig, ax = plt.subplots(figsize=40, dpi=my_dpi)\n",
    "\n",
    "    sns.heatmap(data=df,   \n",
    "                cmap='jet',\n",
    "                linewidths=0,\n",
    "                annot=show_values,\n",
    "                yticklabels=True,\n",
    "                cbar_kws={\"shrink\":10.0, \"anchor\":(0.0, 1.0)},\n",
    "                ax=ax)\n",
    "    \n",
    "    \n",
    "    ax.set(title='Ranked Protein Activity',xlabel=xlabel, ylabel=ylabel)\n",
    "    \n",
    "    if showfig == True:\n",
    "        plt.show(ax)\n",
    "\n",
    "    if savefig == True:\n",
    "        path = \"Heatmap_Vector_Plots/\"\n",
    "        plt.savefig(path + str(xlabel) + \".png\", dpi=my_dpi, bbox_inches='tight')\n",
    "\n",
    "    plt.close(fig)\n",
    "\n",
    "def SortNormalize(df, SID):\n",
    "    # Sort values in dataframe, normalize data, retain labels on protein ID\n",
    "    df = df.sort_values(by=SID, ascending=False) # Sort values in descending order\n",
    "    # Still need to add data normalization feature\n",
    "    print(df[df[SID] > 0].count()) # Print count of non-zero datapoints\n",
    "    return df\n",
    "\n",
    "# Heatmap()"
   ]
  },
  {
   "cell_type": "code",
   "execution_count": 4,
   "metadata": {
    "tags": []
   },
   "outputs": [
    {
     "output_type": "execute_result",
     "data": {
      "text/plain": "'\\nSID = np.random.randint(0,168)\\nprint(SID)\\nAnalyzeSubstrate(df=activations, SID=SID)\\n'"
     },
     "metadata": {},
     "execution_count": 4
    }
   ],
   "source": [
    "def SaveSubstrate(df=activations, SID=0, Subs_list=list(metabolite_dict.values())):\n",
    "    df = pd.DataFrame(df.iloc[SID,:]) # Obtains vector from dataframe based on substrate needed for analysis\n",
    "\n",
    "    df = SortNormalize(df=df,SID=SID)\n",
    "    substrate = Subs_list[SID]\n",
    "\n",
    "    Heatmap_Vector(df=df, show_values=False, xlabel=substrate, savefig=True)\n",
    "\n",
    "'''\n",
    "SID = np.random.randint(0,168)\n",
    "print(SID)\n",
    "AnalyzeSubstrate(df=activations, SID=SID)\n",
    "'''"
   ]
  },
  {
   "cell_type": "code",
   "execution_count": 5,
   "metadata": {
    "tags": []
   },
   "outputs": [
    {
     "output_type": "execute_result",
     "data": {
      "text/plain": "'\\nfor i in range(0,len(activations.index)):\\n    SaveSubstrate(df=activations, SID=i)\\n'"
     },
     "metadata": {},
     "execution_count": 5
    }
   ],
   "source": [
    "# This section is pretty dangerous to run, will take a long time, also needs a restart after\n",
    "'''\n",
    "for i in range(0,len(activations.index)):\n",
    "    SaveSubstrate(df=activations, SID=i)\n",
    "'''"
   ]
  },
  {
   "cell_type": "code",
   "execution_count": 6,
   "metadata": {
    "tags": []
   },
   "outputs": [],
   "source": [
    "def RankAll(df=activations):\n",
    "    # Reorder dataframe based on protein with the highest activity score\n",
    "    # Activity score is calculated by total activity across substrates\n",
    "    score = df.sum(axis=0)\n",
    "    # print(score)\n",
    "    score_sort = score.sort_values(ascending=False)\n",
    "    # print(score_sort)\n",
    "    # Reorder dataframe from left to right\n",
    "    df = pd.concat([df, score_sort.to_frame().T], ignore_index=True)\n",
    "    sorted_df = df.sort_values(df.last_valid_index(), axis=1, ascending=False)\n",
    "    sorted_df.drop(df.tail(1).index,inplace=True)\n",
    "    return sorted_df, score_sort\n",
    "\n",
    "sorted_df, _ = RankAll()\n",
    "# Show heatmap of ranked activities\n",
    "# Heatmap_Vector(sorted_df)\n",
    "\n",
    "# Obtain list of ranked proteins, including activities"
   ]
  },
  {
   "cell_type": "code",
   "execution_count": 7,
   "metadata": {},
   "outputs": [],
   "source": [
    "def Heatmap_Ranked(df=activations.iloc[0,:], xlabel=\"Protein Index\", ylabel=\"Substrate Index\", my_dpi=400, show_values=False, showfig=False, savefig=False):\n",
    "    # Generate heatmap from data contained in a vector using seaborn\n",
    "    fig, ax = plt.subplots(dpi=my_dpi)\n",
    "\n",
    "    sns.heatmap(data=df,   \n",
    "                cmap='jet',\n",
    "                linewidths=0,\n",
    "                annot=show_values,\n",
    "                yticklabels=False,\n",
    "                # cbar_kws={\"shrink\":10.0, \"anchor\":(0.0, 1.0)},\n",
    "                ax=ax)\n",
    "    \n",
    "    \n",
    "    ax.set(title='Ranked Protein Activity',xlabel=xlabel, ylabel=ylabel)\n",
    "    \n",
    "    if showfig == True:\n",
    "        plt.show(ax)\n",
    "\n",
    "    if savefig == True:\n",
    "        # path\n",
    "        plt.savefig(\"Ranked Protein Activity.png\", dpi=my_dpi, bbox_inches='tight')\n",
    "\n",
    "    plt.close(fig)\n",
    "\n",
    "# Heatmap_Ranked(sorted_df, my_dpi=700, showfig=False, savefig=True)"
   ]
  },
  {
   "cell_type": "code",
   "execution_count": 27,
   "metadata": {
    "tags": []
   },
   "outputs": [],
   "source": [
    "def RankProteinBySubstrate(df=activations, percentile=25, substrates=list(metabolite_dict.values())):\n",
    "\n",
    "        # Note: Percentile is from the bottom\n",
    "    percentile = 100 - percentile\n",
    "    \n",
    "    my_dict = {}\n",
    "\n",
    "    for i in range(0,len(df.index)):\n",
    "        # Rank proteins on a per substrate basis\n",
    "        table = df.iloc[i,:]\n",
    "        table = table.where(table > 0).dropna() # remove 0 values from threshold calculation\n",
    "        table = table.sort_values(ascending=False)\n",
    "        \n",
    "        # Identify the top 25 percentile, or whatever is set\n",
    "        threshold = table.quantile(percentile/100)\n",
    "        table = table.where(table > threshold).dropna()\n",
    "        # print(threshold)\n",
    "        # print(table)\n",
    "\n",
    "        # We can change the scoring method later, use this for now\n",
    "        score = table.values.sum()\n",
    "        substrate = substrates[i]\n",
    "\n",
    "        table = table.to_frame()\n",
    "        df2 = pd.DataFrame({0:[score]})\n",
    "        table = table.append(df2, ignore_index=False)\n",
    "        table = table.rename(columns={0:str(substrate)+'Activity'})\n",
    "\n",
    "        my_dict[str(substrate)] = [table, score]\n",
    "\n",
    "    '''This is the score table generator'''\n",
    "    data = pd.DataFrame()\n",
    "    for i in Dict:\n",
    "        score = Dict[i][1]\n",
    "        substrate = i\n",
    "        data = data.append([[substrate,score]],ignore_index=True)\n",
    "    data = data.rename(columns={0:'Substrate', 1:'Score'})\n",
    "    score_table = data\n",
    "\n",
    "\n",
    "    return my_dict, score_table\n",
    "\n",
    "# Dict = RankProteinBySubstrate(percentile=10)"
   ]
  },
  {
   "cell_type": "code",
   "execution_count": 34,
   "metadata": {
    "tags": []
   },
   "outputs": [
    {
     "output_type": "execute_result",
     "data": {
      "text/plain": "                          Substrate    Score\n167                            PNPP  11.9290\n80                           5'-AMP  11.4835\n94                              UMP  11.3126\n70                              IMP  11.2910\n82                             dTMP  11.2744\n81                             dUMP  11.1376\n62       2'-deoxyribose-5-phosphate  11.1334\n137  2'-deoxy-D-glucose-6-phosphate  11.1050\n13               Glycerol-phosphate  11.0587\n51           L-arabitol-1-phosphate  10.9630",
      "text/html": "<div>\n<style scoped>\n    .dataframe tbody tr th:only-of-type {\n        vertical-align: middle;\n    }\n\n    .dataframe tbody tr th {\n        vertical-align: top;\n    }\n\n    .dataframe thead th {\n        text-align: right;\n    }\n</style>\n<table border=\"1\" class=\"dataframe\">\n  <thead>\n    <tr style=\"text-align: right;\">\n      <th></th>\n      <th>Substrate</th>\n      <th>Score</th>\n    </tr>\n  </thead>\n  <tbody>\n    <tr>\n      <th>167</th>\n      <td>PNPP</td>\n      <td>11.9290</td>\n    </tr>\n    <tr>\n      <th>80</th>\n      <td>5'-AMP</td>\n      <td>11.4835</td>\n    </tr>\n    <tr>\n      <th>94</th>\n      <td>UMP</td>\n      <td>11.3126</td>\n    </tr>\n    <tr>\n      <th>70</th>\n      <td>IMP</td>\n      <td>11.2910</td>\n    </tr>\n    <tr>\n      <th>82</th>\n      <td>dTMP</td>\n      <td>11.2744</td>\n    </tr>\n    <tr>\n      <th>81</th>\n      <td>dUMP</td>\n      <td>11.1376</td>\n    </tr>\n    <tr>\n      <th>62</th>\n      <td>2'-deoxyribose-5-phosphate</td>\n      <td>11.1334</td>\n    </tr>\n    <tr>\n      <th>137</th>\n      <td>2'-deoxy-D-glucose-6-phosphate</td>\n      <td>11.1050</td>\n    </tr>\n    <tr>\n      <th>13</th>\n      <td>Glycerol-phosphate</td>\n      <td>11.0587</td>\n    </tr>\n    <tr>\n      <th>51</th>\n      <td>L-arabitol-1-phosphate</td>\n      <td>10.9630</td>\n    </tr>\n  </tbody>\n</table>\n</div>"
     },
     "metadata": {},
     "execution_count": 34
    }
   ],
   "source": [
    "Dict, Score_Table = RankProteinBySubstrate(percentile=10)\n",
    "'''\n",
    "data = pd.DataFrame(columns='Substrate','Score')\n",
    "for i in Dict:\n",
    "    score = Dict[i][1]\n",
    "    substrate = i\n",
    "    data = data.append([[substrate,score]],ignore_index=True)\n",
    "data'''\n",
    "Score_Table.sort_values(by='Score',ascending=False).iloc[0:10,:]"
   ]
  },
  {
   "cell_type": "code",
   "execution_count": 36,
   "metadata": {},
   "outputs": [
    {
     "output_type": "error",
     "ename": "TypeError",
     "evalue": "from_bounds() argument after * must be an iterable, not int",
     "traceback": [
      "\u001b[1;31m---------------------------------------------------------------------------\u001b[0m",
      "\u001b[1;31mTypeError\u001b[0m                                 Traceback (most recent call last)",
      "\u001b[1;32m<ipython-input-36-4683ff013db5>\u001b[0m in \u001b[0;36m<module>\u001b[1;34m\u001b[0m\n\u001b[0;32m      1\u001b[0m \u001b[0mdf2\u001b[0m \u001b[1;33m=\u001b[0m \u001b[0mDict\u001b[0m\u001b[1;33m[\u001b[0m\u001b[1;34m'PNPP'\u001b[0m\u001b[1;33m]\u001b[0m\u001b[1;33m[\u001b[0m\u001b[1;36m0\u001b[0m\u001b[1;33m]\u001b[0m\u001b[1;33m\u001b[0m\u001b[1;33m\u001b[0m\u001b[0m\n\u001b[1;32m----> 2\u001b[1;33m \u001b[0mHeatmap_Vector\u001b[0m\u001b[1;33m(\u001b[0m\u001b[0mdf\u001b[0m\u001b[1;33m=\u001b[0m\u001b[0mdf2\u001b[0m\u001b[1;33m)\u001b[0m\u001b[1;33m\u001b[0m\u001b[1;33m\u001b[0m\u001b[0m\n\u001b[0m",
      "\u001b[1;32m<ipython-input-3-fffbcffa3f67>\u001b[0m in \u001b[0;36mHeatmap_Vector\u001b[1;34m(df, ylabel, xlabel, my_dpi, show_values, showfig, savefig)\u001b[0m\n\u001b[0;32m     22\u001b[0m \u001b[1;32mdef\u001b[0m \u001b[0mHeatmap_Vector\u001b[0m\u001b[1;33m(\u001b[0m\u001b[0mdf\u001b[0m\u001b[1;33m=\u001b[0m\u001b[0mactivations\u001b[0m\u001b[1;33m.\u001b[0m\u001b[0miloc\u001b[0m\u001b[1;33m[\u001b[0m\u001b[1;36m0\u001b[0m\u001b[1;33m,\u001b[0m\u001b[1;33m:\u001b[0m\u001b[1;33m]\u001b[0m\u001b[1;33m,\u001b[0m \u001b[0mylabel\u001b[0m\u001b[1;33m=\u001b[0m\u001b[1;34m\"Protein Index\"\u001b[0m\u001b[1;33m,\u001b[0m \u001b[0mxlabel\u001b[0m\u001b[1;33m=\u001b[0m\u001b[1;34m\"Substrate Index\"\u001b[0m\u001b[1;33m,\u001b[0m \u001b[0mmy_dpi\u001b[0m\u001b[1;33m=\u001b[0m\u001b[1;36m400\u001b[0m\u001b[1;33m,\u001b[0m \u001b[0mshow_values\u001b[0m\u001b[1;33m=\u001b[0m\u001b[1;32mTrue\u001b[0m\u001b[1;33m,\u001b[0m \u001b[0mshowfig\u001b[0m\u001b[1;33m=\u001b[0m\u001b[1;32mFalse\u001b[0m\u001b[1;33m,\u001b[0m \u001b[0msavefig\u001b[0m\u001b[1;33m=\u001b[0m\u001b[1;32mFalse\u001b[0m\u001b[1;33m)\u001b[0m\u001b[1;33m:\u001b[0m\u001b[1;33m\u001b[0m\u001b[1;33m\u001b[0m\u001b[0m\n\u001b[0;32m     23\u001b[0m     \u001b[1;31m# Generate heatmap from data contained in a vector using seaborn\u001b[0m\u001b[1;33m\u001b[0m\u001b[1;33m\u001b[0m\u001b[1;33m\u001b[0m\u001b[0m\n\u001b[1;32m---> 24\u001b[1;33m     \u001b[0mfig\u001b[0m\u001b[1;33m,\u001b[0m \u001b[0max\u001b[0m \u001b[1;33m=\u001b[0m \u001b[0mplt\u001b[0m\u001b[1;33m.\u001b[0m\u001b[0msubplots\u001b[0m\u001b[1;33m(\u001b[0m\u001b[0mfigsize\u001b[0m\u001b[1;33m=\u001b[0m\u001b[1;36m40\u001b[0m\u001b[1;33m,\u001b[0m \u001b[0mdpi\u001b[0m\u001b[1;33m=\u001b[0m\u001b[0mmy_dpi\u001b[0m\u001b[1;33m)\u001b[0m\u001b[1;33m\u001b[0m\u001b[1;33m\u001b[0m\u001b[0m\n\u001b[0m\u001b[0;32m     25\u001b[0m \u001b[1;33m\u001b[0m\u001b[0m\n\u001b[0;32m     26\u001b[0m     sns.heatmap(data=df,   \n",
      "\u001b[1;32m~\\AppData\\Local\\Programs\\Python\\Python38\\lib\\site-packages\\matplotlib\\pyplot.py\u001b[0m in \u001b[0;36msubplots\u001b[1;34m(nrows, ncols, sharex, sharey, squeeze, subplot_kw, gridspec_kw, **fig_kw)\u001b[0m\n\u001b[0;32m   1175\u001b[0m \u001b[1;33m\u001b[0m\u001b[0m\n\u001b[0;32m   1176\u001b[0m     \"\"\"\n\u001b[1;32m-> 1177\u001b[1;33m     \u001b[0mfig\u001b[0m \u001b[1;33m=\u001b[0m \u001b[0mfigure\u001b[0m\u001b[1;33m(\u001b[0m\u001b[1;33m**\u001b[0m\u001b[0mfig_kw\u001b[0m\u001b[1;33m)\u001b[0m\u001b[1;33m\u001b[0m\u001b[1;33m\u001b[0m\u001b[0m\n\u001b[0m\u001b[0;32m   1178\u001b[0m     axs = fig.subplots(nrows=nrows, ncols=ncols, sharex=sharex, sharey=sharey,\n\u001b[0;32m   1179\u001b[0m                        \u001b[0msqueeze\u001b[0m\u001b[1;33m=\u001b[0m\u001b[0msqueeze\u001b[0m\u001b[1;33m,\u001b[0m \u001b[0msubplot_kw\u001b[0m\u001b[1;33m=\u001b[0m\u001b[0msubplot_kw\u001b[0m\u001b[1;33m,\u001b[0m\u001b[1;33m\u001b[0m\u001b[1;33m\u001b[0m\u001b[0m\n",
      "\u001b[1;32m~\\AppData\\Local\\Programs\\Python\\Python38\\lib\\site-packages\\matplotlib\\pyplot.py\u001b[0m in \u001b[0;36mfigure\u001b[1;34m(num, figsize, dpi, facecolor, edgecolor, frameon, FigureClass, clear, **kwargs)\u001b[0m\n\u001b[0;32m    538\u001b[0m             \u001b[0mdpi\u001b[0m \u001b[1;33m=\u001b[0m \u001b[1;36m72\u001b[0m\u001b[1;33m\u001b[0m\u001b[1;33m\u001b[0m\u001b[0m\n\u001b[0;32m    539\u001b[0m \u001b[1;33m\u001b[0m\u001b[0m\n\u001b[1;32m--> 540\u001b[1;33m         figManager = new_figure_manager(num, figsize=figsize,\n\u001b[0m\u001b[0;32m    541\u001b[0m                                         \u001b[0mdpi\u001b[0m\u001b[1;33m=\u001b[0m\u001b[0mdpi\u001b[0m\u001b[1;33m,\u001b[0m\u001b[1;33m\u001b[0m\u001b[1;33m\u001b[0m\u001b[0m\n\u001b[0;32m    542\u001b[0m                                         \u001b[0mfacecolor\u001b[0m\u001b[1;33m=\u001b[0m\u001b[0mfacecolor\u001b[0m\u001b[1;33m,\u001b[0m\u001b[1;33m\u001b[0m\u001b[1;33m\u001b[0m\u001b[0m\n",
      "\u001b[1;32m~\\AppData\\Local\\Programs\\Python\\Python38\\lib\\site-packages\\matplotlib\\backend_bases.py\u001b[0m in \u001b[0;36mnew_figure_manager\u001b[1;34m(cls, num, *args, **kwargs)\u001b[0m\n\u001b[0;32m   3355\u001b[0m         \u001b[1;32mfrom\u001b[0m \u001b[0mmatplotlib\u001b[0m\u001b[1;33m.\u001b[0m\u001b[0mfigure\u001b[0m \u001b[1;32mimport\u001b[0m \u001b[0mFigure\u001b[0m\u001b[1;33m\u001b[0m\u001b[1;33m\u001b[0m\u001b[0m\n\u001b[0;32m   3356\u001b[0m         \u001b[0mfig_cls\u001b[0m \u001b[1;33m=\u001b[0m \u001b[0mkwargs\u001b[0m\u001b[1;33m.\u001b[0m\u001b[0mpop\u001b[0m\u001b[1;33m(\u001b[0m\u001b[1;34m'FigureClass'\u001b[0m\u001b[1;33m,\u001b[0m \u001b[0mFigure\u001b[0m\u001b[1;33m)\u001b[0m\u001b[1;33m\u001b[0m\u001b[1;33m\u001b[0m\u001b[0m\n\u001b[1;32m-> 3357\u001b[1;33m         \u001b[0mfig\u001b[0m \u001b[1;33m=\u001b[0m \u001b[0mfig_cls\u001b[0m\u001b[1;33m(\u001b[0m\u001b[1;33m*\u001b[0m\u001b[0margs\u001b[0m\u001b[1;33m,\u001b[0m \u001b[1;33m**\u001b[0m\u001b[0mkwargs\u001b[0m\u001b[1;33m)\u001b[0m\u001b[1;33m\u001b[0m\u001b[1;33m\u001b[0m\u001b[0m\n\u001b[0m\u001b[0;32m   3358\u001b[0m         \u001b[1;32mreturn\u001b[0m \u001b[0mcls\u001b[0m\u001b[1;33m.\u001b[0m\u001b[0mnew_figure_manager_given_figure\u001b[0m\u001b[1;33m(\u001b[0m\u001b[0mnum\u001b[0m\u001b[1;33m,\u001b[0m \u001b[0mfig\u001b[0m\u001b[1;33m)\u001b[0m\u001b[1;33m\u001b[0m\u001b[1;33m\u001b[0m\u001b[0m\n\u001b[0;32m   3359\u001b[0m \u001b[1;33m\u001b[0m\u001b[0m\n",
      "\u001b[1;32m~\\AppData\\Local\\Programs\\Python\\Python38\\lib\\site-packages\\matplotlib\\figure.py\u001b[0m in \u001b[0;36m__init__\u001b[1;34m(self, figsize, dpi, facecolor, edgecolor, linewidth, frameon, subplotpars, tight_layout, constrained_layout)\u001b[0m\n\u001b[0;32m    349\u001b[0m             raise ValueError('figure size must be positive finite not '\n\u001b[0;32m    350\u001b[0m                              f'{figsize}')\n\u001b[1;32m--> 351\u001b[1;33m         \u001b[0mself\u001b[0m\u001b[1;33m.\u001b[0m\u001b[0mbbox_inches\u001b[0m \u001b[1;33m=\u001b[0m \u001b[0mBbox\u001b[0m\u001b[1;33m.\u001b[0m\u001b[0mfrom_bounds\u001b[0m\u001b[1;33m(\u001b[0m\u001b[1;36m0\u001b[0m\u001b[1;33m,\u001b[0m \u001b[1;36m0\u001b[0m\u001b[1;33m,\u001b[0m \u001b[1;33m*\u001b[0m\u001b[0mfigsize\u001b[0m\u001b[1;33m)\u001b[0m\u001b[1;33m\u001b[0m\u001b[1;33m\u001b[0m\u001b[0m\n\u001b[0m\u001b[0;32m    352\u001b[0m \u001b[1;33m\u001b[0m\u001b[0m\n\u001b[0;32m    353\u001b[0m         \u001b[0mself\u001b[0m\u001b[1;33m.\u001b[0m\u001b[0mdpi_scale_trans\u001b[0m \u001b[1;33m=\u001b[0m \u001b[0mAffine2D\u001b[0m\u001b[1;33m(\u001b[0m\u001b[1;33m)\u001b[0m\u001b[1;33m.\u001b[0m\u001b[0mscale\u001b[0m\u001b[1;33m(\u001b[0m\u001b[0mdpi\u001b[0m\u001b[1;33m)\u001b[0m\u001b[1;33m\u001b[0m\u001b[1;33m\u001b[0m\u001b[0m\n",
      "\u001b[1;31mTypeError\u001b[0m: from_bounds() argument after * must be an iterable, not int"
     ]
    }
   ],
   "source": [
    "df2 = Dict['PNPP'][0]\n",
    "Heatmap_Vector(df=df2)"
   ]
  }
 ]
}