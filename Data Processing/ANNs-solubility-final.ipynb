{
 "cells": [
  {
   "cell_type": "code",
   "execution_count": 4,
   "metadata": {
    "collapsed": true
   },
   "outputs": [],
   "source": [
    "#protein solubility prediction\n",
    "#interactive inline plot\n",
    "%matplotlib notebook \n",
    "\n",
    "#Import all the packages\n",
    "import pandas as pd\n",
    "import numpy as np\n",
    "\n",
    "from sklearn.model_selection import cross_val_predict\n",
    "from sklearn.model_selection import cross_validate\n",
    "from sklearn.metrics import accuracy_score\n",
    "from sklearn.model_selection import KFold\n",
    "from sklearn.neural_network import MLPRegressor\n",
    "from sklearn.neural_network import MLPClassifier\n",
    "from sklearn.preprocessing import StandardScaler\n",
    "from sklearn.metrics import matthews_corrcoef\n",
    "from sklearn.metrics import average_precision_score\n",
    "from sklearn.metrics import make_scorer\n",
    "from sklearn import svm\n",
    "\n",
    "# Importing pathlib package to allow parsing of csv files\n",
    "from pathlib import Path\n",
    "import sys"
   ]
  },
  {
   "cell_type": "code",
   "execution_count": 5,
   "metadata": {},
   "outputs": [
    {
     "output_type": "stream",
     "name": "stdout",
     "text": "c:\\Users\\erena\\Google Drive\\Canada\\School\\Summer 2020\\Mahadevan Lab\\Protein Solubility Paper\\Python Files\\cleandata_1name.csv\nTrue\n"
    }
   ],
   "source": [
    "\n",
    "cleandata_1name = Path(r\"cleandata_1name.csv\").parent.absolute() / Path(\"cleandata_1name.csv\") # Making PATH object of clean14w.csv\n",
    "totalCGAN7_file = Path(r\"totalCGAN7.csv\").parent.absolute() / Path(\"totalCGAN7.csv\") # Making PATH object of totalCGAN7.csv\n",
    "print(cleandata_1name)\n",
    "print(cleandata_1name.exists())"
   ]
  },
  {
   "cell_type": "code",
   "execution_count": 6,
   "metadata": {
    "collapsed": true
   },
   "outputs": [],
   "source": [
    "#first defind the headers of the columns (the different proteins) and then load data into dataframe\n",
    "headers = ['A', 'R', 'N', 'D', 'C', 'E', 'Q', 'G', 'H', 'I', 'L', 'K', 'M', 'F', 'P', 'S', 'T', 'W', 'Y', 'V','solubility']\n",
    "\n",
    "# Need to make a PATH object to pass to pd.read_cv for \"clean14w.csv\" and \"totalCGGAN7.csv\"\n",
    "\n",
    "#original data\n",
    "df_Original = pd.read_csv(cleandata_1name,index_col=0,names=headers,header=0) # Should be clean14w.csv\n",
    "df_Original.dropna(axis=0,inplace=True)\n",
    "#gan supplemented data\n",
    "df_WithGan = pd.read_csv(cleandata_1name,index_col=0,names=headers,header=0) # should be totalCGAN7.csv\n",
    "df_WithGan.dropna(axis=0,inplace=True)"
   ]
  },
  {
   "cell_type": "code",
   "execution_count": 2,
   "metadata": {
    "collapsed": true
   },
   "outputs": [],
   "source": [
    "def Neural_Network_Prediciton(df):\n",
    "    #set the X(proteins) and y(soubility)\n",
    "    X = df.iloc[:,0:-1]; # iloc = integer locate/selection by position\n",
    "    y = df.solubility;\n",
    "\n",
    "    X = X.to_numpy().astype(np.float)\n",
    "    y = y.to_numpy().astype(np.float)\n",
    "\n",
    "    #set 10 fold validation\n",
    "    kf = KFold(n_splits=10)\n",
    "\n",
    "    def mc_reg(y_true, y_pred):\n",
    "        y_true[y_true >= 0.44] = True; y_true[y_true < 0.44] = False\n",
    "        y_pred[y_pred >= 0.44] = True; y_pred[y_pred < 0.44] = False\n",
    "        return matthews_corrcoef(y_true, y_pred) # returns matthews corrcoeff with same y_true and y_pred           calculated for all three of mc, accracy, precision\n",
    "    \n",
    "    def accracy_reg(y_true, y_pred):\n",
    "        y_true[y_true >= 0.44] = True; y_true[y_true < 0.44] = False\n",
    "        y_pred[y_pred >= 0.44] = True; y_pred[y_pred < 0.44] = False\n",
    "        return accuracy_score(y_true, y_pred)\n",
    "    \n",
    "    def precision_reg(y_true,y_pred):\n",
    "        y_true[y_true >= 0.44] = True; y_true[y_true < 0.44] = False\n",
    "        y_pred[y_pred >= 0.44] = True; y_pred[y_pred < 0.44] = False\n",
    "        return average_precision_score(y_true, y_pred)\n",
    "\n",
    "    #use the best results for prediction\n",
    "    reg = MLPRegressor(hidden_layer_sizes=(31, ),activation='relu', learning_rate='invscaling',learning_rate_init=0.003)\n",
    "\n",
    "    method_original = {'accuracy':make_scorer(accracy_reg),'precision':make_scorer(precision_reg),'AUC':'roc_auc','MCC':make_scorer(mc_reg),'r2':'r2'}\n",
    "\n",
    "    results_original = cross_validate(reg, X, y, cv=kf, scoring=method_original, return_train_score=False)\n",
    "    \n",
    "    #out put the scores\n",
    "    score_original = pd.DataFrame([[np.mean(results_original['test_accuracy']),np.mean(results_original['test_precision']),\n",
    "                                    np.mean(results_original['test_AUC']),np.mean(results_original['test_MCC']),\n",
    "                                    np.mean(results_original['test_r2'])]],\n",
    "                                    columns=['accuracy','precision','AUC','MCC','R2'])\n",
    "    \n",
    "    #output the predictions\n",
    "    # create an empty dictionary for output\n",
    "    predictions = {}\n",
    "    index = 0\n",
    "    for train, test in kf.split(X):\n",
    "        X_train, X_test, y_train, y_test = X[train], X[test], y[train], y[test]\n",
    "        reg.fit(X_train,y_train)\n",
    "        y_predict = reg.predict(X_test)\n",
    "        predictions[index] = pd.DataFrame(np.column_stack((predicted_original,y_original)),columns=['Predicted','Original'])\n",
    "        index+=1\n",
    "        \n",
    "    return score_original,predictions"
   ]
  },
  {
   "cell_type": "markdown",
   "metadata": {},
   "source": [
    "#call the evaluation function\n",
    "score_original,predictions = Neural_Network_Prediciton(df_Original)\n",
    "\n",
    "#print score\n",
    "score_original"
   ]
  },
  {
   "cell_type": "code",
   "execution_count": 7,
   "metadata": {},
   "outputs": [
    {
     "output_type": "error",
     "ename": "NameError",
     "evalue": "name 'predicted_original' is not defined",
     "traceback": [
      "\u001b[1;31m---------------------------------------------------------------------------\u001b[0m",
      "\u001b[1;31mNameError\u001b[0m                                 Traceback (most recent call last)",
      "\u001b[1;32m<ipython-input-7-0080834c704c>\u001b[0m in \u001b[0;36m<module>\u001b[1;34m\u001b[0m\n\u001b[1;32m----> 1\u001b[1;33m \u001b[1;33m[\u001b[0m\u001b[0mresult_original\u001b[0m\u001b[1;33m,\u001b[0m \u001b[0mpredictions\u001b[0m\u001b[1;33m]\u001b[0m \u001b[1;33m=\u001b[0m \u001b[0mNeural_Network_Prediciton\u001b[0m\u001b[1;33m(\u001b[0m\u001b[0mdf_WithGan\u001b[0m\u001b[1;33m)\u001b[0m \u001b[1;31m# added predictions\u001b[0m\u001b[1;33m\u001b[0m\u001b[1;33m\u001b[0m\u001b[0m\n\u001b[0m\u001b[0;32m      2\u001b[0m \u001b[0mresult_original\u001b[0m\u001b[1;33m\u001b[0m\u001b[1;33m\u001b[0m\u001b[0m\n",
      "\u001b[1;32m<ipython-input-2-da903a9ef75c>\u001b[0m in \u001b[0;36mNeural_Network_Prediciton\u001b[1;34m(df)\u001b[0m\n\u001b[0;32m     46\u001b[0m         \u001b[0mreg\u001b[0m\u001b[1;33m.\u001b[0m\u001b[0mfit\u001b[0m\u001b[1;33m(\u001b[0m\u001b[0mX_train\u001b[0m\u001b[1;33m,\u001b[0m\u001b[0my_train\u001b[0m\u001b[1;33m)\u001b[0m\u001b[1;33m\u001b[0m\u001b[1;33m\u001b[0m\u001b[0m\n\u001b[0;32m     47\u001b[0m         \u001b[0my_predict\u001b[0m \u001b[1;33m=\u001b[0m \u001b[0mreg\u001b[0m\u001b[1;33m.\u001b[0m\u001b[0mpredict\u001b[0m\u001b[1;33m(\u001b[0m\u001b[0mX_test\u001b[0m\u001b[1;33m)\u001b[0m\u001b[1;33m\u001b[0m\u001b[1;33m\u001b[0m\u001b[0m\n\u001b[1;32m---> 48\u001b[1;33m         \u001b[0mpredictions\u001b[0m\u001b[1;33m[\u001b[0m\u001b[0mindex\u001b[0m\u001b[1;33m]\u001b[0m \u001b[1;33m=\u001b[0m \u001b[0mpd\u001b[0m\u001b[1;33m.\u001b[0m\u001b[0mDataFrame\u001b[0m\u001b[1;33m(\u001b[0m\u001b[0mnp\u001b[0m\u001b[1;33m.\u001b[0m\u001b[0mcolumn_stack\u001b[0m\u001b[1;33m(\u001b[0m\u001b[1;33m(\u001b[0m\u001b[0mpredicted_original\u001b[0m\u001b[1;33m,\u001b[0m\u001b[0my_original\u001b[0m\u001b[1;33m)\u001b[0m\u001b[1;33m)\u001b[0m\u001b[1;33m,\u001b[0m\u001b[0mcolumns\u001b[0m\u001b[1;33m=\u001b[0m\u001b[1;33m[\u001b[0m\u001b[1;34m'Predicted'\u001b[0m\u001b[1;33m,\u001b[0m\u001b[1;34m'Original'\u001b[0m\u001b[1;33m]\u001b[0m\u001b[1;33m)\u001b[0m\u001b[1;33m\u001b[0m\u001b[1;33m\u001b[0m\u001b[0m\n\u001b[0m\u001b[0;32m     49\u001b[0m         \u001b[0mindex\u001b[0m\u001b[1;33m+=\u001b[0m\u001b[1;36m1\u001b[0m\u001b[1;33m\u001b[0m\u001b[1;33m\u001b[0m\u001b[0m\n\u001b[0;32m     50\u001b[0m \u001b[1;33m\u001b[0m\u001b[0m\n",
      "\u001b[1;31mNameError\u001b[0m: name 'predicted_original' is not defined"
     ]
    }
   ],
   "source": [
    "[result_original, predictions] = Neural_Network_Prediciton(df_WithGan) # added predictions\n",
    "result_original"
   ]
  },
  {
   "cell_type": "code",
   "execution_count": null,
   "metadata": {},
   "outputs": [],
   "source": [
    "#input 0-9 to retrieve the different folds\n",
    "predictions[9]\n"
   ]
  },
  {
   "cell_type": "code",
   "execution_count": null,
   "metadata": {
    "collapsed": true
   },
   "outputs": [],
   "source": []
  }
 ],
 "metadata": {
  "kernelspec": {
   "display_name": "Python 3.8.2 64-bit",
   "language": "python",
   "name": "python38264bit317c29d03c97487fb18b321d16c5bbf4"
  },
  "language_info": {
   "codemirror_mode": {
    "name": "ipython",
    "version": 3
   },
   "file_extension": ".py",
   "mimetype": "text/x-python",
   "name": "python",
   "nbconvert_exporter": "python",
   "pygments_lexer": "ipython3",
   "version": "3.8.2-final"
  }
 },
 "nbformat": 4,
 "nbformat_minor": 2
}