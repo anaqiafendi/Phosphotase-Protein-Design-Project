{
 "metadata": {
  "language_info": {
   "codemirror_mode": {
    "name": "ipython",
    "version": 3
   },
   "file_extension": ".py",
   "mimetype": "text/x-python",
   "name": "python",
   "nbconvert_exporter": "python",
   "pygments_lexer": "ipython3",
   "version": "3.8.0-final"
  },
  "orig_nbformat": 2,
  "kernelspec": {
   "name": "python38064bit8524944b7830403fbe33f0efba5bc94f",
   "display_name": "Python 3.8.0 64-bit"
  }
 },
 "nbformat": 4,
 "nbformat_minor": 2,
 "cells": [
  {
   "cell_type": "code",
   "execution_count": null,
   "metadata": {},
   "outputs": [],
   "source": [
    "from bs4 import BeautifulSoup\n",
    "import lxml\n",
    "import xml.etree.ElementTree as ET\n"
   ]
  },
  {
   "cell_type": "code",
   "execution_count": null,
   "metadata": {},
   "outputs": [],
   "source": [
    "file_name = 'UniprotReviewedPhosphatase.xml'\n",
    "soup = BeautifulSoup(file_name, 'html.parser')"
   ]
  },
  {
   "cell_type": "code",
   "execution_count": null,
   "metadata": {
    "tags": []
   },
   "outputs": [],
   "source": [
    "file_name = 'UniprotReviewedPhosphatase.xml'\n",
    "tree = ET.parse(file_name)\n",
    "root = tree.getroot()"
   ]
  },
  {
   "cell_type": "code",
   "execution_count": 74,
   "metadata": {
    "tags": []
   },
   "outputs": [
    {
     "output_type": "stream",
     "name": "stdout",
     "text": "Item #2 attribute:\nPDP2_YEAST\n"
    }
   ],
   "source": [
    "print('Item #1 name:')\n",
    "for i in range(0,len(root[0])):\n",
    "    tag_type = root[0][i].tag.replace('{http://uniprot.org/uniprot}','')\n",
    "    if tag_type == 'name':\n",
    "        print(root[0][i].text)"
   ]
  },
  {
   "cell_type": "code",
   "execution_count": null,
   "metadata": {
    "tags": []
   },
   "outputs": [],
   "source": [
    "str(root[0][1].tag).replace('{http://uniprot.org/uniprot}','')\n",
    "# str(root[0][1].tag)"
   ]
  },
  {
   "cell_type": "code",
   "execution_count": null,
   "metadata": {
    "tags": []
   },
   "outputs": [],
   "source": [
    "for i in range(0,len(root)):\n",
    "    print(root[i][3].text)"
   ]
  },
  {
   "cell_type": "code",
   "execution_count": 71,
   "metadata": {
    "tags": []
   },
   "outputs": [
    {
     "output_type": "stream",
     "name": "stdout",
     "text": "{}\n{'type': 'primary', 'evidence': '8'}\n{'type': 'synonym', 'evidence': '9'}\n{'type': 'synonym', 'evidence': '10'}\n{'type': 'ordered locus', 'evidence': '12'}\n{'type': 'ORF', 'evidence': '12'}\n{'type': 'ORF', 'evidence': '12'}\n{'type': 'scientific'}\n{'type': 'common'}\n{}\n{}\n"
    }
   ],
   "source": [
    "for name in root[0].iter('{http://uniprot.org/uniprot}name'):\n",
    "    print(name.attrib)"
   ]
  },
  {
   "cell_type": "code",
   "execution_count": null,
   "metadata": {},
   "outputs": [],
   "source": []
  }
 ]
}