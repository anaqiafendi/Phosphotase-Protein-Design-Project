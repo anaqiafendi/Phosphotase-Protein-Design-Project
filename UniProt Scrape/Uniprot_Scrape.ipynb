{
 "metadata": {
  "language_info": {
   "codemirror_mode": {
    "name": "ipython",
    "version": 3
   },
   "file_extension": ".py",
   "mimetype": "text/x-python",
   "name": "python",
   "nbconvert_exporter": "python",
   "pygments_lexer": "ipython3",
   "version": "3.8.0-final"
  },
  "orig_nbformat": 2,
  "kernelspec": {
   "name": "python38064bit8524944b7830403fbe33f0efba5bc94f",
   "display_name": "Python 3.8.0 64-bit"
  }
 },
 "nbformat": 4,
 "nbformat_minor": 2,
 "cells": [
  {
   "cell_type": "code",
   "execution_count": null,
   "metadata": {},
   "outputs": [],
   "source": [
    "from bs4 import BeautifulSoup\n",
    "import lxml\n",
    "import xml.etree.ElementTree as ET\n"
   ]
  },
  {
   "cell_type": "code",
   "execution_count": null,
   "metadata": {},
   "outputs": [],
   "source": [
    "file_name = 'UniprotReviewedPhosphatase.xml'\n",
    "soup = BeautifulSoup(file_name, 'html.parser')"
   ]
  },
  {
   "cell_type": "code",
   "execution_count": null,
   "metadata": {
    "tags": []
   },
   "outputs": [],
   "source": [
    "file_name = 'UniprotReviewedPhosphatase.xml'\n",
    "tree = ET.parse(file_name)\n",
    "root = tree.getroot()"
   ]
  },
  {
   "cell_type": "code",
   "execution_count": 169,
   "metadata": {
    "tags": []
   },
   "outputs": [],
   "source": [
    "def Extract_Activities(P_ID=3174):\n",
    "    KM_List = []\n",
    "    Kcat_List = []\n",
    "    for i in range(0,len(root[P_ID])):\n",
    "        # print(root[P_ID][i].tag.replace('{http://uniprot.org/uniprot}',''))\n",
    "        for j in range(0,len(root[P_ID][i])):\n",
    "            tag_type = root[P_ID][i][j].tag.replace('{http://uniprot.org/uniprot}','')\n",
    "            if tag_type == 'kinetics':\n",
    "                kinetics_id = j\n",
    "                for k in range(0,len(root[P_ID][i][j])):\n",
    "                    KM_Kcat = root[P_ID][i][j][k].text\n",
    "                    if KM_Kcat.startswith('kcat'):\n",
    "                        Kcat_List.append(KM_Kcat)\n",
    "                    else:\n",
    "                        KM_List.append(KM_Kcat)\n",
    "                    # print(root[P_ID][i][j][k].text)\n",
    "    InfoList = [KM_List,Kcat_List]\n",
    "    return(InfoList)\n",
    "    # print('\\n')"
   ]
  },
  {
   "cell_type": "code",
   "execution_count": 168,
   "metadata": {},
   "outputs": [],
   "source": [
    "def Extract_Uniprot_Name(P_ID=3174):\n",
    "    p_name = ''\n",
    "    for i in range(0,len(root[P_ID])):\n",
    "        tag_type = root[P_ID][i].tag.replace('{http://uniprot.org/uniprot}','')\n",
    "        if tag_type == 'name':\n",
    "            p_name = root[P_ID][i].text\n",
    "            print(p_name)\n",
    "    return(p_name)"
   ]
  },
  {
   "cell_type": "code",
   "execution_count": null,
   "metadata": {
    "tags": []
   },
   "outputs": [],
   "source": [
    "str(root[0][1].tag).replace('{http://uniprot.org/uniprot}','')\n",
    "# str(root[0][1].tag)"
   ]
  },
  {
   "cell_type": "code",
   "execution_count": 183,
   "metadata": {
    "tags": []
   },
   "outputs": [
    {
     "output_type": "stream",
     "name": "stdout",
     "text": "SHIP1_HUMAN\nMINP1_HUMAN\nINP5E_HUMAN\nHXPB_ECOLI\nINP5K_HUMAN\nAKT2_HUMAN\nCBBY_RHOSH\nCDC25_ARATH\nCIPKN_ARATH\n35NBP_CHRVO\nARSA_HUMAN\nCCA_ECOLI\nCAH3_HUMAN\n5NT3B_HUMAN\nATGTP_HELPY\nBCPMH_TRICW\nACR22_ORYSJ\nCDC14_YEAST\nPMG1_YEAST\nSERB_ECOLI\nSIAT1_HUMAN\nTHRH_PSEAE\nPTN2_HUMAN\nSERB_WOLSU\nMTM1_HUMAN\nRNAAM_ECOLI\nNAGD_ECOLI\nPGP_MOUSE\nPPAX_BACSU\nPTN11_RAT\nPSPA_HYDTT\nPSP_THET2\nSIW14_YEAST\nPLPP4_HUMAN\nNADK2_ARATH\nPAP_BACSU\nPGLT1_HUMAN\nPGP_THEAC\nPPSP3_ARATH\nPLPP5_HUMAN\nPOLN_EEVVT\nPANK4_HUMAN\nPGPP1_ARATH\nPEPP_ALLCE\nPTPB_STAAU\nMYTM1_ARATH\nPRUN1_HUMAN\nS52A1_HUMAN\nNUDT5_HUMAN\nPPP5_HUMAN\nSGGP_ARATH\nOTSB_MYCTU\nSIR2_YEAST\nOTSB_ECOLI\nPGMB_ECOLI\nOSPF_SHIFL\nPHOP1_HUMAN\nPPM1K_HUMAN\nPSP_BACSU\nMINP1_CHICK\nPDE4D_RAT\nPRP3_ECOLI\nKCNB1_HUMAN\nMYTM2_ARATH\nPP1B_RABIT\nPTTBC_ECOLI\nITPK1_BOVIN\nMINP1_RAT\nMGS_RHOMR\nPHNHY_PSEFL\nPHYA2_ASPTE\nPGP_HUMAN\nPLPP1_HUMAN\nIP5PF_ARATH\nNRNA_THET8\nP1254_THEMA\nPHO85_YEAST\nPOLN_EEVV3\nPTPA_STAAU\nRGN_HUMAN\nPKN2_HUMAN\nPPP7_ARATH\nIP5PD_ARATH\nPP2BC_HUMAN\nPLPP1_RAT\nHYES_RAT\nNTPCR_HUMAN\nPHOA_ASPFU\nPGPB_ECOLI\nPLPP1_MOUSE\nHACD2_HUMAN\nNUDJ_ECOLI\nNTPTH_AQUAE\nOCRL_HUMAN\nPHNHY_PENOX\nPLPP2_HUMAN\nPOLG_GBVB\n5NT3B_DROME\nADPP_MYCTU\nKCS1_YEAST\nACEA_ECOLI\nEIS_MYCTU\nHS90B_HUMAN\nINM1_YEAST\nIDH_ECOLI\nMGGB_PETMO\nPANK2_ARATH\nPLPP3_HUMAN\nSUPH_ECOLI\nUDA1_CAEEL\nSURE_ECOLI\nPOLN_SFV\nSERC_ARATH\nYMDB_ECOLI\nPTPRQ_RAT\nSAPM_MYCTU\nOTSBH_THEAC\nTPP1_ORYSJ\nURE2_YEAST\nPPAF2_IPOBA\nPPA26_ARATH\nNANP_HUMAN\nPHO1_CAEEL\nPP2BA_HUMAN\nPYRP2_ARATH\nTENAC_ARATH\nTAM41_YEAST\nTPS1_YEAST\nRSGA_BACSU\nSAC2_HUMAN\nSERK1_ARATH\nSTK24_HUMAN\nPKNH_MYCTU\nPHLP1_HUMAN\nPHYA1_ASPTE\nRLPMH_RHIL3\nPPP5_RAT\nPPT1_YEAST\nPPA_SCHCO\nSPP2_MAIZE\nSPP1_MAIZE\nSTS_HUMAN\nRGN_RAT\nPPX_PSEAE\nPOA1_YEAST\nPOLG_KOKV\nSERB_METJA\nPLD_STRCW\nPHNPP_EGGLE\nRIBRX_MAIZE\nSERB2_MYCTU\nSGPP1_MOUSE\nRIBX_BACTN\nPAIA_BACSU\nPHOP2_HUMAN\nSPHK1_MOUSE\nSMASE_MYCTU\nSTP1_LISMO\nNPPNK_METJA\nPP2BB_HUMAN\nPOLG_DEN2N\nSHB17_YEAST\nARSC_SYNY3\nCNEP1_HUMAN\nHACD1_HUMAN\nPHLP2_HUMAN\nPPP5_ARATH\nPOLG_POL1M\nPSPB_HYDTT\nMGT5A_HUMAN\nNUD18_HUMAN\nOTSA_ECOLI\nPTN2A_ARATH\nARSC_STAAU\nMUTT_ECOLI\nNUDG_ECOLI\nPLD_CORPS\nMUTT1_MYCTU\nNUDT3_HUMAN\nPAP_GEOSE\nPP2C7_YEAST\nMUPP_PSEPK\nNUD16_HUMAN\nPHOQ_ECOLI\nPPAF1_IPOBA\nACR21_ORYSJ\nAPHA_ECOLI\nGPH_ECOLI\nGLPX_CORGL\nPAIA_THEAC\nPPDE_DEIRA\nPPAF_SOYBN\nKCNA2_HUMAN\nPGP_RAT\nPPSP1_ARATH\nEYA_ARATH\nHIF1N_HUMAN\nHYES_HUMAN\nIDS_HUMAN\nKAT2A_HUMAN\nKCNB1_RAT\nEYA2_HUMAN\nHIS7_ECO57\nITPK1_HUMAN\nGLPX_BACSU\nGPMI_BRUMA\nGPP1_YEAST\nNRNA_MYCPN\nADCY8_RAT\nAKT1_HUMAN\nARSC1_CORGL\nCIPKO_ARATH\nIMPA2_HUMAN\nMTMR8_HUMAN\nNTDB_BACSU\nGPP1_ARATH\nIP5PC_ARATH\nMPPD2_RAT\nD89S2_ARATH\nKCNB1_PIG\nMBK2_CAEEL\nNCPP_ECOLI\nIP5PE_ARATH\nMAPP_ENTFT\nGPAT6_ARATH\nLPIN1_HUMAN\nMCEL_VACCW\nGLPX_MYCTU\nGPMI_ONCVO\nHDPA_CORGB\nM1PAS_EIMTE\nHACD4_HUMAN\nHS90A_HUMAN\nMGDP1_MOUSE\nMTMR7_MOUSE\nF26_ARATH\nF16P1_HUMAN\nFBPAP_THEKO\nMK12_HUMAN\nHYES_MOUSE\nKC1D_HUMAN\nKCNB1_MOUSE\nLCMT1_HUMAN\nENPP1_MOUSE\nF16P2_RABIT\nF16PA_ECOLI\nMK14_MOUSE\nARSG_HUMAN\nGPMI_CAEEL\nGMHBB_ECOLI\nKDGGP_BACTN\nGLPX_ECOLI\nGPAT5_ARATH\nGPAT1_ARATH\nGPP2_ARATH\nGPPA_ECOLI\nKCNB1_RABIT\nKCNC2_RAT\nGLPX2_ECOLI\nDAPK3_HUMAN\nF16PA_SYNE7\nF16PC_BACSU\nGAD_SACS2\nFBPAP_CENSY\nKS6A3_HUMAN\nFBP_PYRFU\nGPMI_GEOSE\nGPMPP_PERMH\nHACD3_HUMAN\nEYA3_HUMAN\nF16P1_PIG\nHPRK_BACSU\nIMPA3_MOUSE\nKDSC_ECOBD\nFHY1C_ARATH\nFBPAP_SULTO\nINP4B_RAT\nAPTX_HUMAN\nDUS7_HUMAN\nENPP3_HUMAN\nFBPAP_IGNH4\nATDA_ECOLI\nINM2_YEAST\nIMPA1_HUMAN\nBSUHB_THEMA\nHXPA_ECOLI\nDS13A_HUMAN\nGPAT4_ARATH\nGMHBB_RHILO\nHDHD1_HUMAN\nGPGP_MYCTU\nGPAT7_ARATH\nFBSB_SYNE7\nFBPAP_THEON\nGOB1_BRUMA\nENPP7_RAT\nENPP6_BOVIN\nALPH_SYNE7\nD89S1_PYRHO\nGMHBA_BACTN\nDUPD1_HUMAN\nDS1P1_YEAST\nF16P2_HUMAN\nFHYRK_ARATH\nGPMPP_METBU\nARMT1_YEAST\nGPP2_YEAST\nGMHBB_BORBR\nGGP_BACIE\nGPMI_ECOLI\nENPP2_HUMAN\nEXG1_CANAL\nG3PP_MYCTU\nACES_BUNFA\nENPP2_MOUSE\nG6PC2_HUMAN\nDPP1_YEAST\nG6PC3_HUMAN\nARSC_BACSU\nBSUHB_ARCFU\nBSUHB_METJA\nYITU_BACSU\nCPDA_MYCTU\nAPHA_SALTM\nENPP1_HUMAN\nENPP6_HUMAN\nDUSP_VAR67\nDSP1_ARATH\nDUSP_VACCW\nD10_VACCW\nACLY_RAT\nCYDA_ECOLI\nCYSQ_MYCTU\n5NT3A_HUMAN\nCANT1_RAT\nCGL_HUMAN\nALPH_ELIME\nE2AK1_HUMAN\nDUS23_HUMAN\nCAPAM_HUMAN\nCOF_ECOLI\nCOASY_HUMAN\nCYSQ_ECOLI\nARSC2_CORGL\nCD48A_ARATH\nARAL_BACSU\nCA1P_WHEAT\nCP2R1_HUMAN\nAPGM1_ARCFU\nCBBY_ARATH\nAPHA_SALTY\nCDA_MYROD\nBSUHB_THEKO\nNOCT_HUMAN\nSERCL_ARATH\nSUHB_MYCTU\nYIDA_ECOLI\nRNHPH_MYCTU\nSPP2_ORYSJ\nYMDB_BACSU\nSPHK1_HUMAN\nSUGPH_MYCTU\nSULF_CLOP1\nVIP1_SCHPO\nYCSE_BACSU\nPTPRE_MOUSE\nVIP2_MOUSE\nYBHA_ECOLI\nYQAB_ECOLI\nYIGL_ECOLI\nYWPJ_BACSU\nTYDP2_HUMAN\nVIP2_HUMAN\nYRFG_ECOLI\nSURE_THEMA\nTPS2_YEAST\nTUBAT_MYCTU\nYIGB_ECOLI\nSYJ1_SCHPO\nYWTE_BACSU\nVTC4_ARATH\nVIP1_HUMAN\nYBJI_ECOLI\nYIEH_ECOLI\nZDP_ARATH\nTTM3_ARATH\nYCH1_YEAST\nTPP2_ORYSJ\nYJJG_ECOLI\nYFKJ_BACSU\nYIHX_ECOLI\n"
    }
   ],
   "source": [
    "Protein_dict = {}\n",
    "for P_ID in range(0,len(root)):\n",
    "    dumb_list = Extract_Activities(P_ID)\n",
    "    if len(dumb_list[0]) != 0 or len(dumb_list[0]) != 0:\n",
    "        p_name = Extract_Uniprot_Name(P_ID)\n",
    "        Protein_dict = {p_name:dumb_list}"
   ]
  },
  {
   "cell_type": "code",
   "execution_count": 167,
   "metadata": {
    "tags": []
   },
   "outputs": [
    {
     "output_type": "stream",
     "name": "stdout",
     "text": "OSPF_SHIFL\n"
    },
    {
     "output_type": "execute_result",
     "data": {
      "text/plain": "'OSPF_SHIFL'"
     },
     "metadata": {},
     "execution_count": 167
    }
   ],
   "source": [
    "Extract_Uniprot_Name(1452)"
   ]
  },
  {
   "cell_type": "code",
   "execution_count": 189,
   "metadata": {},
   "outputs": [
    {
     "output_type": "execute_result",
     "data": {
      "text/plain": "1"
     },
     "metadata": {},
     "execution_count": 189
    }
   ],
   "source": [
    "len(list(Protein_dict.keys()))"
   ]
  }
 ]
}