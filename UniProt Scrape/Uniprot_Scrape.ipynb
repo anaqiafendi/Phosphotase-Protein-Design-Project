{
 "metadata": {
  "language_info": {
   "codemirror_mode": {
    "name": "ipython",
    "version": 3
   },
   "file_extension": ".py",
   "mimetype": "text/x-python",
   "name": "python",
   "nbconvert_exporter": "python",
   "pygments_lexer": "ipython3",
   "version": "3.8.0-final"
  },
  "orig_nbformat": 2,
  "kernelspec": {
   "name": "python38064bit8524944b7830403fbe33f0efba5bc94f",
   "display_name": "Python 3.8.0 64-bit"
  }
 },
 "nbformat": 4,
 "nbformat_minor": 2,
 "cells": [
  {
   "cell_type": "code",
   "execution_count": 193,
   "metadata": {},
   "outputs": [],
   "source": [
    "import xml.etree.ElementTree as ET"
   ]
  },
  {
   "cell_type": "code",
   "execution_count": 194,
   "metadata": {
    "tags": []
   },
   "outputs": [],
   "source": [
    "file_name = 'UniprotReviewedPhosphatase.xml'\n",
    "tree = ET.parse(file_name)\n",
    "root = tree.getroot()"
   ]
  },
  {
   "cell_type": "code",
   "execution_count": 253,
   "metadata": {
    "tags": []
   },
   "outputs": [],
   "source": [
    "def Extract_Activities(P_ID=3174):\n",
    "    KM_List = []\n",
    "    Kcat_List = []\n",
    "    for i in range(0,len(root[P_ID])):\n",
    "        # print(root[P_ID][i].tag.replace('{http://uniprot.org/uniprot}',''))\n",
    "        for j in range(0,len(root[P_ID][i])):\n",
    "            tag_type = root[P_ID][i][j].tag.replace('{http://uniprot.org/uniprot}','')\n",
    "            if tag_type == 'kinetics':\n",
    "                kinetics_id = j\n",
    "                for k in range(0,len(root[P_ID][i][j])):\n",
    "                    KM_Kcat = root[P_ID][i][j][k].text\n",
    "                    if KM_Kcat.startswith('kcat'):\n",
    "                        KcatSplit = KM_Kcat.split('. ') # Need to separate Kcat vals into individual entries\n",
    "                        Kcat_List.extend(KcatSplit)\n",
    "                    else:\n",
    "                        KM_List.append(KM_Kcat)\n",
    "                    # print(root[P_ID][i][j][k].text)\n",
    "    InfoList = [KM_List,Kcat_List]\n",
    "    return(InfoList)\n",
    "    # print('\\n')"
   ]
  },
  {
   "cell_type": "code",
   "execution_count": 196,
   "metadata": {},
   "outputs": [],
   "source": [
    "def Extract_Uniprot_Name(P_ID=3174):\n",
    "    p_name = ''\n",
    "    for i in range(0,len(root[P_ID])):\n",
    "        tag_type = root[P_ID][i].tag.replace('{http://uniprot.org/uniprot}','')\n",
    "        if tag_type == 'name':\n",
    "            p_name = root[P_ID][i].text\n",
    "            # print(p_name)\n",
    "    return(p_name)"
   ]
  },
  {
   "cell_type": "code",
   "execution_count": 254,
   "metadata": {
    "tags": []
   },
   "outputs": [],
   "source": [
    "'''\n",
    "This block generates the dictionary known as Protein_dict which contains all of the kcat and KM values in a dictionary with the protein Uniprot name as the key\n",
    "'''\n",
    "Protein_dict = {}\n",
    "for P_ID in range(0,len(root)):\n",
    "    dumb_list = Extract_Activities(P_ID=P_ID)\n",
    "    if len(dumb_list[0]) != 0 or len(dumb_list[0]) != 0:\n",
    "        p_name = Extract_Uniprot_Name(P_ID)\n",
    "        Protein_dict[p_name] = dumb_list"
   ]
  },
  {
   "cell_type": "code",
   "execution_count": 255,
   "metadata": {
    "tags": []
   },
   "outputs": [
    {
     "output_type": "execute_result",
     "data": {
      "text/plain": "'kcat is 0.0021 s(-1) with phenyl phosphate as substrate'"
     },
     "metadata": {},
     "execution_count": 255
    }
   ],
   "source": [
    "empty_list = []\n",
    "P_NAME = 'BCPMH_TRICW'\n",
    "[KM_Vals, Kcat_Vals] = Protein_dict[P_NAME]\n",
    "# print(Kcat_Vals[0].split('. '))\n",
    "# Kcat_Vals[0].split('. ')\n",
    "# type(Kcat_Vals[0])\n",
    "Kcat_Vals[0]"
   ]
  },
  {
   "cell_type": "code",
   "execution_count": 215,
   "metadata": {
    "tags": []
   },
   "outputs": [],
   "source": [
    "for P_NAME in list(Protein_dict.keys()):\n",
    "    [KM_Vals, Kcat_Vals] = Protein_dict[P_NAME]\n",
    "    if len(Kcat_Vals) > 1:\n",
    "        print(P_NAME)"
   ]
  }
 ]
}