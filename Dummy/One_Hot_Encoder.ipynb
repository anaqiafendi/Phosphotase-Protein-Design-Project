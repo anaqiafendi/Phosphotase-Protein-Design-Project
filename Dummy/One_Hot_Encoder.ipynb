{
 "metadata": {
  "language_info": {
   "codemirror_mode": {
    "name": "ipython",
    "version": 3
   },
   "file_extension": ".py",
   "mimetype": "text/x-python",
   "name": "python",
   "nbconvert_exporter": "python",
   "pygments_lexer": "ipython3",
   "version": "3.8.0-final"
  },
  "orig_nbformat": 2,
  "kernelspec": {
   "name": "python38064bit8524944b7830403fbe33f0efba5bc94f",
   "display_name": "Python 3.8.0 64-bit"
  }
 },
 "nbformat": 4,
 "nbformat_minor": 2,
 "cells": [
  {
   "cell_type": "code",
   "execution_count": 2,
   "metadata": {},
   "outputs": [],
   "source": [
    "# Imports and add ons\n",
    "\n",
    "import pandas as pd\n",
    "import numpy as np\n",
    "import matplotlib.pyplot as plt\n",
    "import sklearn\n",
    "import pickle\n",
    "import os\n",
    "import Bio\n",
    "\n",
    "import tensorflow as tf\n",
    "from tensorflow import keras\n",
    "from tensorflow.keras import layers\n",
    "\n",
    "from sklearn.model_selection import train_test_split\n",
    "\n",
    "from pathlib import Path"
   ]
  },
  {
   "cell_type": "code",
   "execution_count": 3,
   "metadata": {},
   "outputs": [],
   "source": [
    "# Load the clean data into variables\n",
    "Processed_Folder = Path(r\"ANN.ipynb\").parent.absolute() / Path(\"Processed Data\")\n",
    "\n",
    "dicts = ['EFI_ID_List', 'metabolite_dict', 'Protein_seq_dict']\n",
    "\n",
    "with open(Processed_Folder / Path('EFI_ID_List.p'), 'rb') as EFI_ID:\n",
    "    EFI_ID_List = pickle.load(EFI_ID)\n",
    "\n",
    "with open(Processed_Folder / Path('metabolite_dict.p'), 'rb') as metabolite:\n",
    "    metabolite_dict = pickle.load(metabolite)\n",
    "\n",
    "with open(Processed_Folder / Path('Protein_seq_dict.p'), 'rb') as Protein_seq:\n",
    "    Protein_seq_dict = pickle.load(Protein_seq)\n",
    "\n",
    "activations = pd.read_csv(Processed_Folder / Path('activations.csv'), index_col=0)"
   ]
  },
  {
   "cell_type": "code",
   "execution_count": 4,
   "metadata": {},
   "outputs": [],
   "source": [
    "from Bio.Alphabet.IUPAC import IUPACProtein\n",
    "\n",
    "# +1 and start at 1 in this dictionary indexing in order to allow for 0 to be used when padding\n",
    "Amino_lookup_dict = {list(IUPACProtein.letters)[i]: (i+1) for i in range(0,len(IUPACProtein.letters))}\n",
    "\n",
    "def Amino_Acid_Sequencer(Protein_Seq=str):\n",
    "    # Each amino acid entry in the protein sequence is numbered \n",
    "    Sequence_list = [Amino_lookup_dict[i] for i in list(Protein_Seq)]\n",
    "    \n",
    "\n",
    "    Num_Acids = len(IUPACProtein.letters) # Number of unique amino acids possible in proteins, should be 20\n",
    "    encoded_acid = np.zeros((len(Protein_Seq),Num_Acids))\n",
    "    # Each column vector represents a single entry in the protein sequence\n",
    "\n",
    "    for acid in list(Protein_seq):\n",
    "        Acid_Number = Amino_lookup_dict[acid]\n",
    "        encoded_acid\n",
    "\n",
    "    print(encoded_acid)\n",
    "    return(Sequence_list)\n",
    "\n",
    "def Amino_Sequence_Encoder(ID_List:list, Protein_Dict:dict):\n",
    "    from Bio.Seq import Seq\n",
    "    from Bio.Alphabet import IUPAC\n",
    "    from Bio.Alphabet.IUPAC import IUPACProtein\n",
    "\n",
    "    longest_acid = max(Protein_seq_dict.values(), key = len) \n",
    "    num_proteins = len(Protein_Dict)\n",
    "\n",
    "    encoded_data = np.zeros((num_proteins, len(longest_acid)))\n",
    "\n",
    "    for i in range(0,len(ID_List)):\n",
    "        ID = ID_List[i]\n",
    "        P_seq = Protein_Dict[ID]\n",
    "        P_seq = str(P_seq).upper()\n",
    "        acid_sequence = Amino_Acid_Sequencer(Protein_Seq=P_seq)\n",
    "        # Only update the sequences, so automatically 0 padding used\n",
    "        encoded_data[i,0:len(acid_sequence)] = list(acid_sequence)\n",
    "        \n",
    "    encoded_data = encoded_data.astype(np.int)\n",
    "\n",
    "    print(encoded_data)\n",
    "    return(encoded_data)"
   ]
  },
  {
   "cell_type": "code",
   "execution_count": 5,
   "metadata": {
    "tags": []
   },
   "outputs": [
    {
     "output_type": "error",
     "ename": "ValueError",
     "evalue": "I/O operation on closed file.",
     "traceback": [
      "\u001b[1;31m---------------------------------------------------------------------------\u001b[0m",
      "\u001b[1;31mValueError\u001b[0m                                Traceback (most recent call last)",
      "\u001b[1;32m<ipython-input-5-bd6076c19352>\u001b[0m in \u001b[0;36m<module>\u001b[1;34m\u001b[0m\n\u001b[0;32m      1\u001b[0m \u001b[0mP_seq\u001b[0m \u001b[1;33m=\u001b[0m \u001b[0mstr\u001b[0m\u001b[1;33m(\u001b[0m\u001b[0mProtein_seq_dict\u001b[0m\u001b[1;33m[\u001b[0m\u001b[0mEFI_ID_List\u001b[0m\u001b[1;33m[\u001b[0m\u001b[1;36m1\u001b[0m\u001b[1;33m]\u001b[0m\u001b[1;33m]\u001b[0m\u001b[1;33m)\u001b[0m\u001b[1;33m.\u001b[0m\u001b[0mupper\u001b[0m\u001b[1;33m(\u001b[0m\u001b[1;33m)\u001b[0m\u001b[1;33m\u001b[0m\u001b[1;33m\u001b[0m\u001b[0m\n\u001b[1;32m----> 2\u001b[1;33m \u001b[0mAmino_Acid_Sequencer\u001b[0m\u001b[1;33m(\u001b[0m\u001b[0mProtein_Seq\u001b[0m\u001b[1;33m=\u001b[0m\u001b[0mP_seq\u001b[0m\u001b[1;33m)\u001b[0m\u001b[1;33m\u001b[0m\u001b[1;33m\u001b[0m\u001b[0m\n\u001b[0m\u001b[0;32m      3\u001b[0m \u001b[0mlen\u001b[0m\u001b[1;33m(\u001b[0m\u001b[0mIUPACProtein\u001b[0m\u001b[1;33m.\u001b[0m\u001b[0mletters\u001b[0m\u001b[1;33m)\u001b[0m\u001b[1;33m\u001b[0m\u001b[1;33m\u001b[0m\u001b[0m\n",
      "\u001b[1;32m<ipython-input-4-a464a3c04241>\u001b[0m in \u001b[0;36mAmino_Acid_Sequencer\u001b[1;34m(Protein_Seq)\u001b[0m\n\u001b[0;32m     13\u001b[0m     \u001b[1;31m# Each column vector represents a single entry in the protein sequence\u001b[0m\u001b[1;33m\u001b[0m\u001b[1;33m\u001b[0m\u001b[1;33m\u001b[0m\u001b[0m\n\u001b[0;32m     14\u001b[0m \u001b[1;33m\u001b[0m\u001b[0m\n\u001b[1;32m---> 15\u001b[1;33m     \u001b[1;32mfor\u001b[0m \u001b[0macid\u001b[0m \u001b[1;32min\u001b[0m \u001b[0mlist\u001b[0m\u001b[1;33m(\u001b[0m\u001b[0mProtein_seq\u001b[0m\u001b[1;33m)\u001b[0m\u001b[1;33m:\u001b[0m\u001b[1;33m\u001b[0m\u001b[1;33m\u001b[0m\u001b[0m\n\u001b[0m\u001b[0;32m     16\u001b[0m         \u001b[0mAcid_Number\u001b[0m \u001b[1;33m=\u001b[0m \u001b[0mAmino_lookup_dict\u001b[0m\u001b[1;33m[\u001b[0m\u001b[0macid\u001b[0m\u001b[1;33m]\u001b[0m\u001b[1;33m\u001b[0m\u001b[1;33m\u001b[0m\u001b[0m\n\u001b[0;32m     17\u001b[0m         \u001b[0mencoded_acid\u001b[0m\u001b[1;33m\u001b[0m\u001b[1;33m\u001b[0m\u001b[0m\n",
      "\u001b[1;31mValueError\u001b[0m: I/O operation on closed file."
     ]
    }
   ],
   "source": [
    "P_seq = str(Protein_seq_dict[EFI_ID_List[1]]).upper()\n",
    "Amino_Acid_Sequencer(Protein_Seq=P_seq)\n",
    "len(IUPACProtein.letters)\n"
   ]
  },
  {
   "cell_type": "code",
   "execution_count": 8,
   "metadata": {},
   "outputs": [
    {
     "output_type": "execute_result",
     "data": {
      "text/plain": "array([[0., 1., 0., 0., 0., 0., 0., 0., 0., 0., 0., 0., 0., 0., 0., 0.,\n        0., 0., 0., 0.],\n       [0., 0., 0., 0., 0., 0., 0., 0., 0., 0., 0., 0., 0., 0., 0., 0.,\n        0., 0., 0., 0.],\n       [0., 0., 0., 0., 0., 0., 0., 0., 0., 0., 0., 0., 0., 0., 0., 0.,\n        0., 0., 0., 0.],\n       [0., 0., 0., 0., 0., 0., 0., 0., 0., 0., 0., 0., 0., 0., 0., 0.,\n        0., 0., 0., 0.],\n       [0., 0., 0., 0., 0., 0., 0., 0., 0., 0., 0., 0., 0., 0., 0., 0.,\n        0., 0., 0., 0.]])"
     },
     "metadata": {},
     "execution_count": 8
    }
   ],
   "source": [
    "x = np.zeros((5,20))\n",
    "x[0,1] = 1\n",
    "x"
   ]
  },
  {
   "cell_type": "code",
   "execution_count": null,
   "metadata": {},
   "outputs": [],
   "source": []
  }
 ]
}