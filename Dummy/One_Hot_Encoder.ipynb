{
 "metadata": {
  "language_info": {
   "codemirror_mode": {
    "name": "ipython",
    "version": 3
   },
   "file_extension": ".py",
   "mimetype": "text/x-python",
   "name": "python",
   "nbconvert_exporter": "python",
   "pygments_lexer": "ipython3",
   "version": "3.8.0-final"
  },
  "orig_nbformat": 2,
  "kernelspec": {
   "name": "python38064bit8524944b7830403fbe33f0efba5bc94f",
   "display_name": "Python 3.8.0 64-bit"
  }
 },
 "nbformat": 4,
 "nbformat_minor": 2,
 "cells": [
  {
   "cell_type": "code",
   "execution_count": 3,
   "metadata": {},
   "outputs": [],
   "source": [
    "# Imports and add ons\n",
    "\n",
    "import pandas as pd\n",
    "import numpy as np\n",
    "import matplotlib.pyplot as plt\n",
    "import sklearn\n",
    "import pickle\n",
    "import os\n",
    "import Bio\n",
    "\n",
    "import tensorflow as tf\n",
    "from tensorflow import keras\n",
    "from tensorflow.keras import layers\n",
    "\n",
    "from sklearn.model_selection import train_test_split\n",
    "\n",
    "from pathlib import Path"
   ]
  },
  {
   "cell_type": "code",
   "execution_count": 9,
   "metadata": {},
   "outputs": [],
   "source": [
    "# Load the clean data into variables\n",
    "Processed_Folder = Path(r\"ANN.ipynb\").parent.absolute() / Path(\"Processed Data\")\n",
    "\n",
    "dicts = ['EFI_ID_List', 'metabolite_dict', 'Protein_seq_dict']\n",
    "\n",
    "with open(Processed_Folder / Path('EFI_ID_List.p'), 'rb') as EFI_ID:\n",
    "    EFI_ID_List = pickle.load(EFI_ID)\n",
    "\n",
    "with open(Processed_Folder / Path('metabolite_dict.p'), 'rb') as metabolite:\n",
    "    metabolite_dict = pickle.load(metabolite)\n",
    "\n",
    "with open(Processed_Folder / Path('Protein_seq_dict.p'), 'rb') as Protein_seq:\n",
    "    Protein_seq_dict = pickle.load(Protein_seq)\n",
    "\n",
    "activations = pd.read_csv(Processed_Folder / Path('activations.csv'), index_col=0)"
   ]
  },
  {
   "cell_type": "code",
   "execution_count": 18,
   "metadata": {},
   "outputs": [],
   "source": [
    "from Bio.Alphabet.IUPAC import IUPACProtein\n",
    "\n",
    "# +1 and start at 1 in this dictionary indexing in order to allow for 0 to be used when padding\n",
    "Amino_lookup_dict = {list(IUPACProtein.letters)[i]: (i+1) for i in range(0,len(IUPACProtein.letters))}\n",
    "\n",
    "def Amino_Acid_Sequencer(Protein_Seq=str):\n",
    "    # Each amino acid entry in the protein sequence is numbered \n",
    "    Sequence_list = [Amino_lookup_dict[i] for i in list(Protein_Seq)]\n",
    "    \n",
    "\n",
    "    Num_Acids = len(IUPACProtein.letters) # Number of unique amino acids possible in proteins, should be 20\n",
    "    encoded_acid = np.zeros((len(Protein_Seq),Num_Acids))\n",
    "    # Each column vector represents a single entry in the protein sequence\n",
    "\n",
    "    for i in list(Protein_seq):\n",
    "        Acid_Number = \n",
    "\n",
    "    print(encoded_acid)\n",
    "    return(Sequence_list)\n",
    "\n",
    "def Amino_Sequence_Encoder(ID_List:list, Protein_Dict:dict):\n",
    "    from Bio.Seq import Seq\n",
    "    from Bio.Alphabet import IUPAC\n",
    "    from Bio.Alphabet.IUPAC import IUPACProtein\n",
    "\n",
    "    longest_acid = max(Protein_seq_dict.values(), key = len) \n",
    "    num_proteins = len(Protein_Dict)\n",
    "\n",
    "    encoded_data = np.zeros((num_proteins, len(longest_acid)))\n",
    "\n",
    "    for i in range(0,len(ID_List)):\n",
    "        ID = ID_List[i]\n",
    "        P_seq = Protein_Dict[ID]\n",
    "        P_seq = str(P_seq).upper()\n",
    "        acid_sequence = Amino_Acid_Sequencer(Protein_Seq=P_seq)\n",
    "        # Only update the sequences, so automatically 0 padding used\n",
    "        encoded_data[i,0:len(acid_sequence)] = list(acid_sequence)\n",
    "        \n",
    "    encoded_data = encoded_data.astype(np.int)\n",
    "\n",
    "    print(encoded_data)\n",
    "    return(encoded_data)"
   ]
  },
  {
   "cell_type": "code",
   "execution_count": 13,
   "metadata": {
    "tags": []
   },
   "outputs": [
    {
     "output_type": "execute_result",
     "data": {
      "text/plain": "20"
     },
     "metadata": {},
     "execution_count": 13
    }
   ],
   "source": [
    "P_seq = str(Protein_seq_dict[EFI_ID_List[1]]).upper()\n",
    "Amino_Acid_Sequencer(Protein_Seq=P_seq)\n",
    "len(IUPACProtein.letters)\n"
   ]
  },
  {
   "cell_type": "code",
   "execution_count": 17,
   "metadata": {},
   "outputs": [
    {
     "output_type": "execute_result",
     "data": {
      "text/plain": "array([[0., 0., 0., 0., 0.],\n       [0., 0., 0., 0., 0.],\n       [0., 0., 0., 0., 0.],\n       [0., 0., 0., 0., 0.],\n       [0., 0., 0., 0., 0.],\n       [0., 0., 0., 0., 0.],\n       [0., 0., 0., 0., 0.],\n       [0., 0., 0., 0., 0.],\n       [0., 0., 0., 0., 0.],\n       [0., 0., 0., 0., 0.],\n       [0., 0., 0., 0., 0.],\n       [0., 0., 0., 0., 0.],\n       [0., 0., 0., 0., 0.],\n       [0., 0., 0., 0., 0.],\n       [0., 0., 0., 0., 0.],\n       [0., 0., 0., 0., 0.],\n       [0., 0., 0., 0., 0.],\n       [0., 0., 0., 0., 0.],\n       [0., 0., 0., 0., 0.],\n       [0., 0., 0., 0., 0.]])"
     },
     "metadata": {},
     "execution_count": 17
    }
   ],
   "source": [
    "np.zeros((20,5))"
   ]
  }
 ]
}