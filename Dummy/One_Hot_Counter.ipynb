{
 "cells": [
  {
   "cell_type": "code",
   "execution_count": 29,
   "metadata": {},
   "outputs": [],
   "source": [
    "# Imports and add ons\n",
    "\n",
    "import pandas as pd\n",
    "import numpy as np\n",
    "import matplotlib.pyplot as plt\n",
    "import sklearn\n",
    "import pickle\n",
    "import os\n",
    "import Bio\n",
    "\n",
    "import tensorflow as tf\n",
    "from tensorflow import keras\n",
    "from tensorflow.keras import layers\n",
    "\n",
    "from sklearn.model_selection import train_test_split\n",
    "\n",
    "from pathlib import Path"
   ]
  },
  {
   "cell_type": "code",
   "execution_count": 2,
   "metadata": {},
   "outputs": [],
   "source": [
    "# Load the clean data into variables\n",
    "Processed_Folder = Path(r\"ANN.ipynb\").parent.absolute() / Path(\"Processed Data\")\n",
    "\n",
    "dicts = ['EFI_ID_List', 'metabolite_dict', 'Protein_seq_dict']\n",
    "\n",
    "with open(Processed_Folder / Path('EFI_ID_List.p'), 'rb') as EFI_ID:\n",
    "    EFI_ID_List = pickle.load(EFI_ID)\n",
    "\n",
    "with open(Processed_Folder / Path('metabolite_dict.p'), 'rb') as metabolite:\n",
    "    metabolite_dict = pickle.load(metabolite)\n",
    "\n",
    "with open(Processed_Folder / Path('Protein_seq_dict.p'), 'rb') as Protein_seq:\n",
    "    Protein_seq_dict = pickle.load(Protein_seq)\n",
    "\n",
    "activations = pd.read_csv(Processed_Folder / Path('activations.csv'), index_col=0)"
   ]
  },
  {
   "cell_type": "code",
   "execution_count": 3,
   "metadata": {},
   "outputs": [],
   "source": [
    "# Log number of amino acids in each protein into dictionary\n",
    "def amino_acid_counter(Protein_Seq):\n",
    "    from Bio.Seq import Seq\n",
    "    from Bio.Alphabet import IUPAC\n",
    "    from Bio.Alphabet.IUPAC import IUPACProtein\n",
    "    \n",
    "    my_prot = Seq(Protein_Seq, IUPAC.protein).upper()\n",
    "    amino_acids = list(IUPACProtein.letters)\n",
    "    acid_dict = {amino_acids[i]: 0 for i in range(0, len(amino_acids))}\n",
    "    \n",
    "    for amino_acid in amino_acids:\n",
    "        acid_dict[amino_acid] = my_prot.count(amino_acid)\n",
    "    \n",
    "    # print(acid_dict)\n",
    "    return(acid_dict)"
   ]
  },
  {
   "cell_type": "code",
   "execution_count": 4,
   "metadata": {
    "tags": []
   },
   "outputs": [],
   "source": [
    "# Encodes protein sequence using one-hot method and counting\n",
    "def one_hot_encoder_count(ID_List:list, Protein_Dict:dict):\n",
    "    from Bio.Seq import Seq\n",
    "    from Bio.Alphabet import IUPAC\n",
    "    from Bio.Alphabet.IUPAC import IUPACProtein\n",
    "\n",
    "    num_acids = len(IUPACProtein.letters)\n",
    "    num_proteins = len(Protein_Dict)\n",
    "\n",
    "    encoded_data = np.zeros((num_proteins, num_acids))\n",
    "\n",
    "    for i in range(0,len(ID_List)):\n",
    "        ID = ID_List[i]\n",
    "        P_seq = Protein_Dict[ID]\n",
    "        acid_dict = amino_acid_counter(Protein_Seq=P_seq)\n",
    "        encoded_data[i,:] = list(list(acid_dict.values()))\n",
    "        \n",
    "    encoded_data = encoded_data.astype(np.int)\n",
    "\n",
    "    print(encoded_data)\n",
    "    return(encoded_data)"
   ]
  },
  {
   "cell_type": "code",
   "execution_count": 5,
   "metadata": {
    "tags": []
   },
   "outputs": [
    {
     "output_type": "execute_result",
     "data": {
      "text/plain": "[21, 3, 11, 13, 2, 19, 4, 12, 9, 18, 3, 2, 9, 5, 8, 5, 8, 14, 3, 6]"
     },
     "metadata": {},
     "execution_count": 5
    }
   ],
   "source": [
    "# How to use amino_acid_counter\n",
    "Protein_seq_list = list(Protein_seq_dict.values())\n",
    "P_seq = Protein_seq_list[1]\n",
    "acid_dict = amino_acid_counter(P_seq)\n",
    "list(acid_dict.values())"
   ]
  },
  {
   "cell_type": "code",
   "execution_count": 38,
   "metadata": {
    "tags": []
   },
   "outputs": [
    {
     "output_type": "stream",
     "name": "stdout",
     "text": "[[ 8  1 10 ...  5  4  5]\n [21  3 11 ... 14  3  6]\n [25  7 12 ... 12  6  0]\n ...\n [65  4 39 ... 49  4  3]\n [19  1 11 ... 13  0  4]\n [29  3 18 ... 11  5  2]]\n"
    }
   ],
   "source": [
    "# Encoding the data into input data for neural network\n",
    "input_data = one_hot_encoder_count(ID_List=EFI_ID_List, Protein_Dict=Protein_seq_dict)\n",
    "\n",
    "# Specify outputs of data, lets use just 1 of the activation rows\n",
    "true_outputs = activations.to_numpy()[0,:]"
   ]
  },
  {
   "cell_type": "code",
   "execution_count": 74,
   "metadata": {
    "tags": []
   },
   "outputs": [
    {
     "output_type": "stream",
     "name": "stdout",
     "text": "Model: \"mnist_model\"\n_________________________________________________________________\nLayer (type)                 Output Shape              Param #   \n=================================================================\ninput_12 (InputLayer)        [(None, 20)]              0         \n_________________________________________________________________\nrescaling_10 (Rescaling)     (None, 20)                0         \n_________________________________________________________________\ndense_31 (Dense)             (None, 100)               2100      \n_________________________________________________________________\ndense_32 (Dense)             (None, 100)               10100     \n_________________________________________________________________\ndense_33 (Dense)             (None, 1)                 101       \n=================================================================\nTotal params: 12,301\nTrainable params: 12,301\nNon-trainable params: 0\n_________________________________________________________________\n"
    }
   ],
   "source": [
    "# Make neural networks using Keras\n",
    "\n",
    "max_val = np.amax(input_data)\n",
    "\n",
    "inputs = keras.Input(shape=(len(input_data[0])))\n",
    "\n",
    "x = layers.experimental.preprocessing.Rescaling(1/max_val)(inputs)\n",
    "\n",
    "x = layers.Dense(100, activation=\"sigmoid\")(x)\n",
    "\n",
    "x = layers.Dense(100, activation=\"sigmoid\")(x)\n",
    "\n",
    "outputs = layers.Dense(1)(x)\n",
    "\n",
    "model = keras.Model(inputs=inputs, outputs=outputs, name=\"mnist_model\")\n",
    "\n",
    "model.summary()"
   ]
  },
  {
   "cell_type": "code",
   "execution_count": 75,
   "metadata": {},
   "outputs": [
    {
     "output_type": "execute_result",
     "data": {
      "image/png": "[encoded data removed]",
      "text/plain": "<IPython.core.display.Image object>"
     },
     "metadata": {},
     "execution_count": 75
    }
   ],
   "source": [
    "keras.utils.plot_model(model, \"my_first_model.png\",show_shapes=True)"
   ]
  },
  {
   "cell_type": "code",
   "execution_count": 80,
   "metadata": {
    "tags": []
   },
   "outputs": [
    {
     "output_type": "stream",
     "name": "stdout",
     "text": "5/5 [==============================] - 0s 18ms/step - loss: 0.0000e+00 - accuracy: 0.0504 - val_loss: 0.0000e+00 - val_accuracy: 0.0857\n2/2 - 0s - loss: 0.0000e+00 - accuracy: 0.0909\n[[40  3 17 20  3 19  4  4  8 38  4  4 17  6 23  7 17 25  7  6]\n [12  4 16 16  7 13  2 20 20 22  5 13  6 10  6  9  9 11  1 17]\n [ 7  3 15 16 15  9  3 24 26 30  4 18  4  2  3 19 12  6  2 10]\n [20  3 14 16 13 16  5 13  8 25  4 12  8 11 10 11 13 12  6  5]\n [17  3 18 20 12 13  4 14 19 23  7  7 12  4 12 10  4 13  1  5]\n [20  3 18 11  7 12  6 10 11 14  8  6  9  9  8  7  8 16  3  5]\n [27  3 11 11  9 18  4 17  6 29  2  8  8 15 11 17  8 10  3  2]\n [26  0 40 40 23 42 15 41 34 31 12 12 21 14 14 24 25 32  4 16]\n [17  0 13 25 11 13  3 14 22 26  7  9  5  6 13 11 10 22  4  4]\n [18  1 13 20 14 16  6 15 11 14  9  7  6  8  8 10 19  9  1 10]\n [18  2 18 20 11 12  3 23 24 33  8 16  8 12  5 17 14 17  1  7]\n [ 9  9 15 22 14 13  6 22 15 18  7 14 10  6  8 15  9 12  3  8]\n [26  3 30 28 19 22  8 26 26 52  5 23 10 12  9 16 18 22  4 17]\n [17  3 15 13 10 16  7 10 10 13  8  6  6  6  9  6  7 16  2  6]\n [36  2 18 14  5 21  5  3  3 20  9  3 11  3 17 10 10 27  2  1]\n [24  1 19 18 11 20  8 14  7 34  5  7 11 17 16 17 16 13  9  4]\n [17  0 14 14 12 12  4 17 16 21  4  4  6 13 10 10 11  9  2  9]\n [68  3 39 28 15 47  7 49 41 52 20 21 21 25 13 38 36 66  6  9]\n [17  3 19 18 13 10 12 20 17 22 10 18 10 13  4 20 14 21  0  7]\n [36  3 14 21  7 16  9  8  8 35  4  6 15  6 26 14 15 17  2  5]\n [30  3 17 15  7 17 15 17 10 26  8 11 11 13  9 10 20 19  6  8]\n [29  1 20 16 17 21  8 20 10 18  8 16  6 13 12 14  6 24  2 10]\n [28  3 16 14  5  9  5 10  7 34  7  6 14  7 15 10 10 17  3  2]\n [20  1 20 11  9  8  8 20 12 16  8  9  7  8  5 12 14 15  0  8]\n [18  3 35 35 18 19  3 28 36 31 11 24 11  7 23 23 10 19  3 25]\n [30  0 19 21  7 19  5 18  6 21  5  2 11 15 18 11 11 19  4  8]\n [ 8  3 19 12  5 17  3 14 18 19  7  5  5  6  7  7  6 13  2  8]\n [20  0 20 16 10 13  3 16 15 19  7  8  9  5  8  9 10 14  1  7]\n [17  2 14 15 12 10 10 14  7 19  5  7  8  8 10 11  8 13  3  6]\n [16  1 15 24 10  8  3 14 14 26  4 11  8  7 10 12 11 16  2  6]\n [32  0 17 10  8 18  8 14 10 34  3 10  9 23 10 13 15 23  4  8]\n [22  0 15 17  6 21  0 21 12 25  9 19 14  5  9  5 25 17  2 12]\n [16  0 14 17 12 10  2 15 10 20  2 10  4 13  9 15 12 13  2 10]\n [16  1 14 18 10 14  5 15 15 19  3  9 11  7  8  7 13 19  1 11]\n [21  0 16 21 11 19  8 12 11 24  2  4  5  6 15 15 10 19  4  7]\n [11  2 16 26 12 18  6 13 22 24  7  6  9  2 11  9  9 16  2 11]\n [25  1 20 19 16 22  6 18 16 20  9 15  5 13  9 14  7 24  2 10]\n [ 7  3 14 14  9  4  4 19 17 20  1 14  4  6  8  9 12  8  2 17]\n [19  2 20 15  7 23  3 20 15 28  6 10 12  5 11  9 20 18  1 12]\n [29  3 18 14  4 13  8  7  4 27  4  3 12  2 15  8  8 11  5  2]\n [22  3 14 19  7 12  4 16 14 22  5  7  6 12 11 17 12 19  1  3]\n [41  2 13 20  6 21  6  8  4 20  5  2 12  3 20 11 15 18  3  8]\n [ 7  4 14 14 11  7  6 16 19 19  1 15  7  2  6  6  7  7  4  8]\n [20  1 18 25  7 26  1 24 17 25  8  8 11  2 17  8 14 25  1  7]]\n[0.04   0.039  0.0405 0.0695 0.013  0.0505 0.051  0.118  0.002  0.022\n 0.0435 0.0785 0.097  0.011  0.026  0.0044 0.0875 0.01   0.0035 0.061\n 0.028  0.0495 0.02   0.     0.086  0.1217 0.0375 0.011  0.0265 0.\n 0.     0.154  0.0905 0.0055 0.006  0.     0.041  0.039  0.043  0.0435\n 0.0735 0.016  0.052  0.0088]\nTest loss: 0.0\nTest accuracy: 0.09090909361839294\n"
    }
   ],
   "source": [
    "# Split known data into train, and test\n",
    "X_train, X_test, y_train, y_test = train_test_split(input_data, true_outputs, test_size=0.2)\n",
    "\n",
    "# Split train data into train and CV\n",
    "model.compile(\n",
    "    loss=keras.losses.SparseCategoricalCrossentropy(from_logits=True),\n",
    "    optimizer=keras.optimizers.RMSprop(),\n",
    "    metrics=[\"accuracy\"]\n",
    ")\n",
    "history = model.fit(X_train, y_train, epochs=1, validation_split=0.2)\n",
    "test_scores = model.evaluate(X_test, y_test, verbose=2)\n",
    "print(X_test)\n",
    "print(y_test)\n",
    "print(\"Test loss:\", test_scores[0])\n",
    "print(\"Test accuracy:\", test_scores[1])"
   ]
  },
  {
   "cell_type": "code",
   "execution_count": null,
   "metadata": {},
   "outputs": [],
   "source": [
    "from Bio.Alphabet.IUPAC import IUPACProtein\n",
    "\n",
    "print(IU)"
   ]
  }
 ],
 "metadata": {
  "language_info": {
   "codemirror_mode": {
    "name": "ipython",
    "version": 3
   },
   "file_extension": ".py",
   "mimetype": "text/x-python",
   "name": "python",
   "nbconvert_exporter": "python",
   "pygments_lexer": "ipython3",
   "version": "3.8.0-final"
  },
  "orig_nbformat": 2,
  "kernelspec": {
   "name": "python38064bit8524944b7830403fbe33f0efba5bc94f",
   "display_name": "Python 3.8.0 64-bit"
  }
 },
 "nbformat": 4,
 "nbformat_minor": 2
}