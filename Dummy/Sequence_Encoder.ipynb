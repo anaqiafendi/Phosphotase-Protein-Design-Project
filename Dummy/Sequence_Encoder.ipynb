{
 "cells": [
  {
   "cell_type": "code",
   "execution_count": 29,
   "metadata": {},
   "outputs": [],
   "source": [
    "# Imports and add ons\n",
    "\n",
    "import pandas as pd\n",
    "import numpy as np\n",
    "import matplotlib.pyplot as plt\n",
    "import sklearn\n",
    "import pickle\n",
    "import os\n",
    "import Bio\n",
    "\n",
    "import tensorflow as tf\n",
    "from tensorflow import keras\n",
    "from tensorflow.keras import layers\n",
    "\n",
    "from sklearn.model_selection import train_test_split\n",
    "\n",
    "from pathlib import Path"
   ]
  },
  {
   "cell_type": "code",
   "execution_count": 30,
   "metadata": {},
   "outputs": [],
   "source": [
    "# Load the clean data into variables\n",
    "Processed_Folder = Path(r\"ANN.ipynb\").parent.absolute() / Path(\"Processed Data\")\n",
    "\n",
    "dicts = ['EFI_ID_List', 'metabolite_dict', 'Protein_seq_dict']\n",
    "\n",
    "with open(Processed_Folder / Path('EFI_ID_List.p'), 'rb') as EFI_ID:\n",
    "    EFI_ID_List = pickle.load(EFI_ID)\n",
    "\n",
    "with open(Processed_Folder / Path('metabolite_dict.p'), 'rb') as metabolite:\n",
    "    metabolite_dict = pickle.load(metabolite)\n",
    "\n",
    "with open(Processed_Folder / Path('Protein_seq_dict.p'), 'rb') as Protein_seq:\n",
    "    Protein_seq_dict = pickle.load(Protein_seq)\n",
    "\n",
    "activations = pd.read_csv(Processed_Folder / Path('activations.csv'), index_col=0)"
   ]
  },
  {
   "cell_type": "code",
   "execution_count": 42,
   "metadata": {},
   "outputs": [],
   "source": [
    "from Bio.Alphabet.IUPAC import IUPACProtein\n",
    "\n",
    "# +1 and start at 1 in this dictionary indexing in order to allow for 0 to be used when padding\n",
    "Amino_lookup_dict = {list(IUPACProtein.letters)[i]: (i+1) for i in range(0,len(IUPACProtein.letters))}\n",
    "\n",
    "def Amino_Acid_Sequencer(Protein_Seq=str):\n",
    "    Sequence_list = [Amino_lookup_dict[i] for i in list(Protein_Seq)]\n",
    "    return(Sequence_list)\n",
    "\n",
    "def Amino_Sequence_Encoder(ID_List:list, Protein_Dict:dict):\n",
    "    from Bio.Seq import Seq\n",
    "    from Bio.Alphabet import IUPAC\n",
    "    from Bio.Alphabet.IUPAC import IUPACProtein\n",
    "\n",
    "    longest_acid = max(Protein_seq_dict.values(), key = len) \n",
    "    num_proteins = len(Protein_Dict)\n",
    "\n",
    "    encoded_data = np.zeros((num_proteins, len(longest_acid)))\n",
    "\n",
    "    for i in range(0,len(ID_List)):\n",
    "        ID = ID_List[i]\n",
    "        P_seq = Protein_Dict[ID]\n",
    "        P_seq = str(P_seq).upper()\n",
    "        acid_sequence = Amino_Acid_Sequencer(Protein_Seq=P_seq)\n",
    "        # Only update the sequences, so automatically 0 padding used\n",
    "        encoded_data[i,0:len(acid_sequence)] = list(acid_sequence)\n",
    "        \n",
    "    encoded_data = encoded_data.astype(np.int)\n",
    "\n",
    "    print(encoded_data)\n",
    "    return(encoded_data)"
   ]
  },
  {
   "cell_type": "code",
   "execution_count": 36,
   "metadata": {},
   "outputs": [],
   "source": [
    "longest_acid = max(Protein_seq_dict.values(), key = len) "
   ]
  },
  {
   "cell_type": "code",
   "execution_count": 44,
   "metadata": {
    "tags": []
   },
   "outputs": [
    {
     "output_type": "stream",
     "name": "stdout",
     "text": "[[11 17  8 ...  0  0  0]\n [11  9 10 ...  0  0  0]\n [11  3 17 ...  0  0  0]\n ...\n [11 16  7 ...  0  0  0]\n [11  4 17 ...  0  0  0]\n [11 16 10 ...  0  0  0]]\n"
    }
   ],
   "source": [
    "input_data = Amino_Sequence_Encoder(ID_List=EFI_ID_List, Protein_Dict=Protein_seq_dict)"
   ]
  },
  {
   "cell_type": "code",
   "execution_count": 45,
   "metadata": {},
   "outputs": [
    {
     "output_type": "execute_result",
     "data": {
      "text/plain": "'mkrqwkfivvlvlgaiglitdnvlhipgiaevlfdiagayisfslgkemfgdlkeghwgidvlaliavismmitrdywaewmilvmstggesledyatgqanrelralldknprvagklvdgkvvevkvddlqigdqvlikpgqqvpvdgtiiegssvfdqssltgesvpvdktvgddlmsgslngetavtmevkklakdseyqtivelvkssaaqpakfvkmadryavpftiisliigiaawvttgnftrfaevmvvaspcplliaapvalvagmssmskhhiivksgstleqlakaktfafdktgtltqnqlviqdvlpengfdketiqsyaasleqqsdhiianslvqgtdknliqavsnlqestgngvsgtvdgknvmvgklsyvapdanvnkakttavyvsvdgkyagcitfkdrlrpetpqtlarlrkqgakhimmltgdnkdvaqaiadvagvddvrasllpaqkieaiknvapenrpvvmtgdgindapsltaadvgiamgakgasaasesadavimvndlskindavaiakhtmkvaeigiitaivvviilelvaftglipafwgavlqevvdmisiclallaktepknpkqtgl'"
     },
     "metadata": {},
     "execution_count": 45
    }
   ],
   "source": [
    "longest_acid"
   ]
  }
 ],
 "metadata": {
  "language_info": {
   "codemirror_mode": {
    "name": "ipython",
    "version": 3
   },
   "file_extension": ".py",
   "mimetype": "text/x-python",
   "name": "python",
   "nbconvert_exporter": "python",
   "pygments_lexer": "ipython3",
   "version": "3.8.0-final"
  },
  "orig_nbformat": 2,
  "kernelspec": {
   "name": "python38064bit8524944b7830403fbe33f0efba5bc94f",
   "display_name": "Python 3.8.0 64-bit"
  }
 },
 "nbformat": 4,
 "nbformat_minor": 2
}