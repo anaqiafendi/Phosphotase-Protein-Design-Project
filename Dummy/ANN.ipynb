{
 "cells": [
  {
   "cell_type": "code",
   "execution_count": 4,
   "metadata": {},
   "outputs": [],
   "source": [
    "# Imports and add ons\n",
    "\n",
    "import pandas as pd\n",
    "import numpy as np\n",
    "import matplotlib.pyplot as plt\n",
    "import sklearn\n",
    "import pickle\n",
    "import os\n",
    "import Bio\n",
    "\n",
    "from Bio.Seq import Seq\n",
    "from Bio.Alphabet import IUPAC\n",
    "from Bio.Alphabet.IUPAC import IUPACProtein\n",
    "\n",
    "from pathlib import Path"
   ]
  },
  {
   "cell_type": "code",
   "execution_count": 11,
   "metadata": {},
   "outputs": [],
   "source": [
    "# Load the clean data into variables\n",
    "Processed_Folder = Path(r\"One_Hot_Encoder.ipynb\").parent.absolute() / Path(\"Processed Data\")\n",
    "\n",
    "dicts = ['EFI_ID_List', 'metabolite_dict', 'Protein_seq_dict']\n",
    "\n",
    "with open(Processed_Folder / Path('EFI_ID_List.p'), 'rb') as EFI_ID:\n",
    "    EFI_ID_List = pickle.load(EFI_ID)\n",
    "\n",
    "with open(Processed_Folder / Path('metabolite_dict.p'), 'rb') as metabolite:\n",
    "    metabolite_dict = pickle.load(metabolite)\n",
    "\n",
    "with open(Processed_Folder / Path('Protein_seq_dict.p'), 'rb') as Protein_seq:\n",
    "    Protein_seq_dict = pickle.load(Protein_seq)\n",
    "\n",
    "activations = pd.read_csv(Processed_Folder / Path('activations.csv'), index_col=0)"
   ]
  },
  {
   "cell_type": "code",
   "execution_count": 12,
   "metadata": {},
   "outputs": [],
   "source": [
    "# Log number of amino acids in each protein into dictionary\n",
    "def amino_acid_counter(Protein_Seq):\n",
    "    from Bio.Seq import Seq\n",
    "    from Bio.Alphabet import IUPAC\n",
    "    from Bio.Alphabet.IUPAC import IUPACProtein\n",
    "    \n",
    "    my_prot = Seq(Protein_Seq, IUPAC.protein).upper()\n",
    "    amino_acids = list(IUPACProtein.letters)\n",
    "    acid_dict = {amino_acids[i]: 0 for i in range(0, len(amino_acids))}\n",
    "    \n",
    "    for amino_acid in amino_acids:\n",
    "        acid_dict[amino_acid] = my_prot.count(amino_acid)\n",
    "    \n",
    "    # print(acid_dict)\n",
    "    return(acid_dict)"
   ]
  },
  {
   "cell_type": "code",
   "execution_count": 13,
   "metadata": {
    "tags": []
   },
   "outputs": [],
   "source": [
    "# Encodes protein sequence using one-hot method and counting\n",
    "def one_hot_encoder_count(ID_List:list, Protein_Dict:dict):\n",
    "    from Bio.Seq import Seq\n",
    "    from Bio.Alphabet import IUPAC\n",
    "    from Bio.Alphabet.IUPAC import IUPACProtein\n",
    "\n",
    "    num_acids = len(IUPACProtein.letters)\n",
    "    num_proteins = len(Protein_Dict)\n",
    "\n",
    "    encoded_data = np.zeros((num_proteins, num_acids))\n",
    "\n",
    "    for i in range(0,len(ID_List)):\n",
    "        ID = ID_List[i]\n",
    "        P_seq = Protein_Dict[ID]\n",
    "        acid_dict = amino_acid_counter(Protein_Seq=P_seq)\n",
    "        list(list(acid_dict.values()))\n",
    "        encoded_data[i,:] = list(list(acid_dict.values()))\n",
    "\n",
    "    encoded_data = encoded_data.astype(int)\n",
    "    print(encoded_data)    \n",
    "    return(encoded_data)"
   ]
  },
  {
   "cell_type": "code",
   "execution_count": 14,
   "metadata": {
    "tags": []
   },
   "outputs": [
    {
     "output_type": "stream",
     "name": "stdout",
     "text": "[[ 8  1 10 ...  5  4  5]\n [21  3 11 ... 14  3  6]\n [25  7 12 ... 12  6  0]\n ...\n [65  4 39 ... 49  4  3]\n [19  1 11 ... 13  0  4]\n [29  3 18 ... 11  5  2]]\n"
    }
   ],
   "source": [
    "input_matrix = one_hot_encoder_count(ID_List=EFI_ID_List, Protein_Dict=Protein_seq_dict)\n",
    "input_df = pd.DataFrame(data=input_matrix,\n",
    "                        index=EFI_ID_List,\n",
    "                        columns=list(IUPACProtein.letters))"
   ]
  },
  {
   "cell_type": "code",
   "execution_count": null,
   "metadata": {},
   "outputs": [],
   "source": []
  }
 ],
 "metadata": {
  "language_info": {
   "codemirror_mode": {
    "name": "ipython",
    "version": 3
   },
   "file_extension": ".py",
   "mimetype": "text/x-python",
   "name": "python",
   "nbconvert_exporter": "python",
   "pygments_lexer": "ipython3",
   "version": "3.8.3-final"
  },
  "orig_nbformat": 2,
  "kernelspec": {
   "name": "python38332bitd7fdf6e8b2d043f999a957835923388c",
   "display_name": "Python 3.8.3 32-bit"
  }
 },
 "nbformat": 4,
 "nbformat_minor": 2
}